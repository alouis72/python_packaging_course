{
 "cells": [
  {
   "cell_type": "markdown",
   "metadata": {
    "slideshow": {
     "slide_type": "slide"
    }
   },
   "source": [
    "# Documenter son package\n",
    "\n",
    "<center>\n",
    "<span style=\"font-style: italic\">Loic Gouarin</span>\n",
    "</center>\n",
    "<center>\n",
    "<span>du 22 au 24 mai 2019</span>\n",
    "</center>"
   ]
  },
  {
   "cell_type": "markdown",
   "metadata": {
    "slideshow": {
     "slide_type": "slide"
    }
   },
   "source": [
    "### But\n",
    "\n",
    "- Comprendre l'importance d'une documentation.\n",
    "- Avoir une documentation complète pour son projet.\n",
    "- Comprendre comment cette documentation est construite via [`sphinx`](http://www.sphinx-doc.org).\n",
    "- La publier sur [`Read the Docs`](https://readthedocs.org/)."
   ]
  },
  {
   "cell_type": "markdown",
   "metadata": {
    "slideshow": {
     "slide_type": "slide"
    }
   },
   "source": [
    "### Qu'est-ce qu'une bonne documentation ?\n",
    "\n",
    "Une documentation devrait au moins contenir\n",
    "\n",
    "- des tutoriels,\n",
    "- des petits guides sur les domaines \n",
    "- une documentation de référence (par exemple l'API)."
   ]
  },
  {
   "cell_type": "markdown",
   "metadata": {
    "slideshow": {
     "slide_type": "slide"
    }
   },
   "source": [
    "### Pourquoi faire de la doc ??!!\n",
    "\n",
    "- Pour se rappeler ce qu'on a fait il y a six mois.\n",
    "- Pour permettre à d'autres développeurs de contribuer.\n",
    "- Avoir un meilleur code.\n",
    "- Etre un meilleur rédacteur en anglais (issue, email, ...)"
   ]
  },
  {
   "cell_type": "markdown",
   "metadata": {
    "slideshow": {
     "slide_type": "slide"
    }
   },
   "source": [
    "### Vue d'ensemble\n",
    "\n",
    "<center>\n",
    "<img src=\"./images/sphinx.png\" style=\"width:70%\"/>\n",
    "</center>"
   ]
  },
  {
   "cell_type": "markdown",
   "metadata": {
    "slideshow": {
     "slide_type": "slide"
    }
   },
   "source": [
    "## Le format reStructuredText"
   ]
  },
  {
   "cell_type": "markdown",
   "metadata": {
    "slideshow": {
     "slide_type": "subslide"
    }
   },
   "source": [
    "- format offrant beaucoup plus de possibilités que le Markdown,\n",
    "- format de base pour générer d'autres formats,\n",
    "- basé sur la descritption d'une sémantique et non sur comment afficher,\n",
    "- lisible."
   ]
  },
  {
   "cell_type": "markdown",
   "metadata": {
    "slideshow": {
     "slide_type": "subslide"
    }
   },
   "source": [
    "<center>\n",
    "    <a href=\"http://rst.ninjs.org\">Démo</a>\n",
    "</center>"
   ]
  },
  {
   "cell_type": "markdown",
   "metadata": {
    "slideshow": {
     "slide_type": "subslide"
    }
   },
   "source": [
    "### Cheat Sheet\n",
    "\n",
    "La documentation de sphinx fournit deux feuilles permettant de se rappeler des commandes usuelles.\n",
    "\n",
    "- [première feuille](http://docs.sphinxdocs.com/en/latest/_images/cheatsheet-front-full.png)\n",
    "- [deuxième feuille](http://docs.sphinxdocs.com/en/latest/_images/cheatsheet-back-full.png)"
   ]
  },
  {
   "cell_type": "markdown",
   "metadata": {
    "slideshow": {
     "slide_type": "slide"
    }
   },
   "source": [
    "## Initialiser sa documentation avec sphinx"
   ]
  },
  {
   "cell_type": "markdown",
   "metadata": {
    "slideshow": {
     "slide_type": "subslide"
    }
   },
   "source": [
    "### Installation"
   ]
  },
  {
   "cell_type": "code",
   "execution_count": null,
   "metadata": {
    "collapsed": true
   },
   "outputs": [],
   "source": [
    "pip install sphinx"
   ]
  },
  {
   "cell_type": "markdown",
   "metadata": {},
   "source": [
    "ou"
   ]
  },
  {
   "cell_type": "code",
   "execution_count": null,
   "metadata": {
    "collapsed": true
   },
   "outputs": [],
   "source": [
    "conda install sphinx"
   ]
  },
  {
   "cell_type": "markdown",
   "metadata": {
    "slideshow": {
     "slide_type": "subslide"
    }
   },
   "source": [
    "### Initialisation\n",
    "\n",
    "- Créer un répertoire `doc` à la racine de son projet\n",
    "- Aller dans ce répertoire\n",
    "- Exécuter la commande suivante"
   ]
  },
  {
   "cell_type": "code",
   "execution_count": null,
   "metadata": {
    "collapsed": true
   },
   "outputs": [],
   "source": [
    "sphinx-quickstart"
   ]
  },
  {
   "cell_type": "markdown",
   "metadata": {},
   "source": [
    "- Répondre aux questions !!!\n",
    "\n",
    "Il est toujours possible de changer ses réponses en modifiant le fichier de configuration créé lors de cette phase."
   ]
  },
  {
   "cell_type": "markdown",
   "metadata": {
    "slideshow": {
     "slide_type": "subslide"
    }
   },
   "source": [
    "### Arborescence créée"
   ]
  },
  {
   "cell_type": "code",
   "execution_count": 6,
   "metadata": {},
   "outputs": [
    {
     "name": "stdout",
     "output_type": "stream",
     "text": [
      "\u001b[01;34mexamples/calculator/doc\u001b[00m\r\n",
      "├── \u001b[01;34m_build\u001b[00m\r\n",
      "├── conf.py\r\n",
      "├── index.rst\r\n",
      "├── make.bat\r\n",
      "├── Makefile\r\n",
      "├── \u001b[01;34m_static\u001b[00m\r\n",
      "└── \u001b[01;34m_templates\u001b[00m\r\n",
      "\r\n",
      "3 directories, 4 files\r\n"
     ]
    }
   ],
   "source": [
    "! tree examples/calculator/doc"
   ]
  },
  {
   "cell_type": "markdown",
   "metadata": {
    "slideshow": {
     "slide_type": "slide"
    }
   },
   "source": [
    "## Les additions de sphinx"
   ]
  },
  {
   "cell_type": "markdown",
   "metadata": {
    "slideshow": {
     "slide_type": "subslide"
    }
   },
   "source": [
    "### `toctree`\n",
    "\n",
    "- inclusion d'une table des matières.\n",
    "- offre d'autres possibilités que `contents`.\n",
    "- notion hiérarchique d'un document.\n",
    "\n",
    "Exemple d'utilisation\n",
    "\n",
    "```rst\n",
    ".. toctree:: example \n",
    "    index\n",
    "    reference\n",
    "```"
   ]
  },
  {
   "cell_type": "markdown",
   "metadata": {
    "slideshow": {
     "slide_type": "subslide"
    }
   },
   "source": [
    "### Références\n",
    "\n",
    "- références à d'autres parties de la documentation.\n",
    "- références à d'autres projets en utilisant `intersphinx`.\n",
    "\n",
    "Exemple\n",
    "\n",
    "```rest\n",
    ".. _mylink:\n",
    "section\n",
    "-------\n",
    "...\n",
    ":ref:`mylink`\n",
    "```"
   ]
  },
  {
   "cell_type": "markdown",
   "metadata": {
    "slideshow": {
     "slide_type": "subslide"
    }
   },
   "source": [
    "### Références\n",
    "\n",
    "- références à d'autres parties de la documentation.\n",
    "- références à d'autres projets en utilisant `intersphinx`.\n",
    "\n",
    "Exemple\n",
    "\n",
    "```rest\n",
    ":doc:`doc-1`\n",
    ":ref:`python:keywords`\n",
    ":func:`numpy.zeros`\n",
    "```"
   ]
  },
  {
   "cell_type": "markdown",
   "metadata": {
    "slideshow": {
     "slide_type": "subslide"
    }
   },
   "source": [
    "Pour utiliser `intersphinx`, il faut ajouter dans les extensions du fichier `conf.py`"
   ]
  },
  {
   "cell_type": "code",
   "execution_count": null,
   "metadata": {
    "collapsed": true
   },
   "outputs": [],
   "source": [
    "extensions = [..., \"sphinx.ext.intersphinx\", ...]"
   ]
  },
  {
   "cell_type": "markdown",
   "metadata": {},
   "source": [
    "et les liens vers les documentations que l'on utilise."
   ]
  },
  {
   "cell_type": "code",
   "execution_count": null,
   "metadata": {
    "collapsed": true,
    "slideshow": {
     "slide_type": "-"
    }
   },
   "outputs": [],
   "source": [
    "intersphinx_mapping = {'python': ('https://docs.python.org/3.4', None),\n",
    "                       'numpy': ('http://docs.scipy.org/doc/numpy/', None)\n",
    "                      }"
   ]
  },
  {
   "cell_type": "markdown",
   "metadata": {
    "slideshow": {
     "slide_type": "subslide"
    }
   },
   "source": [
    "### autodoc\n",
    "\n",
    "Cette extension permet de documenter automatiquement\n",
    "\n",
    "- des modules,\n",
    "- des classes, \n",
    "- des fonctions,\n",
    "\n",
    "à partir de leur `docstring`.\n",
    "\n",
    "Il faut ajouter dans les extensions de `conf.py`"
   ]
  },
  {
   "cell_type": "code",
   "execution_count": null,
   "metadata": {
    "collapsed": true
   },
   "outputs": [],
   "source": [
    "extensions = [..., \"sphinx.ext.autodoc\", ...]"
   ]
  },
  {
   "cell_type": "markdown",
   "metadata": {
    "slideshow": {
     "slide_type": "subslide"
    }
   },
   "source": [
    "### autodoc\n",
    "\n",
    "- exemple de `docstring`"
   ]
  },
  {
   "cell_type": "code",
   "execution_count": 3,
   "metadata": {
    "collapsed": true
   },
   "outputs": [],
   "source": [
    "def add(value1, value2):\n",
    "    \"\"\"add two values.\n",
    "    :param value1: The first value\n",
    "    :type value1: float or int\n",
    "    :param value2: The second value\n",
    "    :type value2: float or int\n",
    "    :returns: the addition between value1 and value2\n",
    "    :rtype: float or int\n",
    "    \"\"\"\n",
    "    pass"
   ]
  },
  {
   "cell_type": "markdown",
   "metadata": {},
   "source": [
    "- à mettre dans un fichier `rst` de la documentation"
   ]
  },
  {
   "cell_type": "code",
   "execution_count": null,
   "metadata": {
    "collapsed": true
   },
   "outputs": [],
   "source": [
    ".. autofunction:: add"
   ]
  },
  {
   "cell_type": "markdown",
   "metadata": {
    "slideshow": {
     "slide_type": "subslide"
    }
   },
   "source": [
    "### autodoc\n",
    "\n",
    "- sur un module"
   ]
  },
  {
   "cell_type": "code",
   "execution_count": null,
   "metadata": {
    "collapsed": true
   },
   "outputs": [],
   "source": [
    ".. automodule:: mymod\n",
    "   :members:\n",
    "   :undoc-members:"
   ]
  },
  {
   "cell_type": "markdown",
   "metadata": {},
   "source": [
    "- sur une classe"
   ]
  },
  {
   "cell_type": "code",
   "execution_count": null,
   "metadata": {
    "collapsed": true
   },
   "outputs": [],
   "source": [
    ".. autoclass:: myclass\n",
    "   :members:\n",
    "   :private-members:\n",
    "   :special-members:"
   ]
  },
  {
   "cell_type": "markdown",
   "metadata": {},
   "source": [
    "Pour plus d'information, voir la page de [autodoc](http://www.sphinx-doc.org/en/stable/ext/autodoc.html)."
   ]
  },
  {
   "cell_type": "markdown",
   "metadata": {
    "slideshow": {
     "slide_type": "subslide"
    }
   },
   "source": [
    "### Les fichiers `rst` de son API\n",
    "\n",
    "Il est possible de générer l'ensemble des fichiers `rst` de son API en utilisant le script `sphinx-apidoc`."
   ]
  },
  {
   "cell_type": "code",
   "execution_count": null,
   "metadata": {
    "collapsed": true
   },
   "outputs": [],
   "source": [
    "sphinx-apidoc -f -o api ../calculator"
   ]
  },
  {
   "cell_type": "markdown",
   "metadata": {
    "slideshow": {
     "slide_type": "slide"
    }
   },
   "source": [
    "## docstring et sphinx"
   ]
  },
  {
   "cell_type": "markdown",
   "metadata": {
    "collapsed": true,
    "slideshow": {
     "slide_type": "subslide"
    }
   },
   "source": [
    "L'utilisation de la sémantique de l'autodoc dans les docstrings est un peu lourde et rend la documentation dans le code difficile à lire.\n",
    "\n",
    "Vous avez deux extensions qui permettent d'améliorer considérablement la lisibilité\n",
    "\n",
    "- [numpydoc](https://github.com/numpy/numpy/blob/master/doc/HOWTO_DOCUMENT.rst.txt)\n",
    "- [napoleon](http://www.sphinx-doc.org/en/stable/ext/napoleon.html)"
   ]
  },
  {
   "cell_type": "markdown",
   "metadata": {
    "slideshow": {
     "slide_type": "subslide"
    }
   },
   "source": [
    "### Utilisation de `napoleon`\n",
    "\n",
    "Pour l'utiliser, il faut ajouter dans l'extension dans le fichier `conf.py`"
   ]
  },
  {
   "cell_type": "code",
   "execution_count": null,
   "metadata": {
    "collapsed": true
   },
   "outputs": [],
   "source": [
    "extensions = [..., \"sphinx.ext.napoleon\", ...]"
   ]
  },
  {
   "cell_type": "markdown",
   "metadata": {},
   "source": [
    "Vous pouvez alors écrire vos docstrings suivant deux formalismes\n",
    "\n",
    "- style Google\n",
    "- style numpydoc"
   ]
  },
  {
   "cell_type": "markdown",
   "metadata": {
    "slideshow": {
     "slide_type": "subslide"
    }
   },
   "source": [
    "### napoleon et le style Google"
   ]
  },
  {
   "cell_type": "code",
   "execution_count": null,
   "metadata": {
    "collapsed": true
   },
   "outputs": [],
   "source": [
    "def add(value1, value2):\n",
    "    \"\"\"add two values.\n",
    "    \n",
    "    Args:\n",
    "        value1 (float or int): the first value\n",
    "        value2 (float or int): the second value\n",
    "        \n",
    "    Returns:\n",
    "        float or int: the addition between value1 and value2\n",
    "\n",
    "    \"\"\"\n",
    "    pass"
   ]
  },
  {
   "cell_type": "markdown",
   "metadata": {
    "slideshow": {
     "slide_type": "subslide"
    }
   },
   "source": [
    "### napoleon et le style numpydoc"
   ]
  },
  {
   "cell_type": "code",
   "execution_count": null,
   "metadata": {
    "collapsed": true
   },
   "outputs": [],
   "source": [
    "def add(value1, value2):\n",
    "    \"\"\"add two values.\n",
    "    \n",
    "    Parameters\n",
    "    ----------\n",
    "    value1 : float or int\n",
    "        the first value\n",
    "    value2  : float or int\n",
    "        the second value\n",
    "        \n",
    "    Returns\n",
    "    -------\n",
    "    float or int\n",
    "        the addition between value1 and value2\n",
    "\n",
    "    \"\"\"\n",
    "    pass"
   ]
  },
  {
   "cell_type": "markdown",
   "metadata": {
    "slideshow": {
     "slide_type": "subslide"
    }
   },
   "source": [
    "## napoleon et autres mots clés\n",
    "\n",
    "- Attributes\n",
    "- Example, Examples\n",
    "- Methods\n",
    "- Note, Notes\n",
    "- Raises\n",
    "- References\n",
    "- See Also\n",
    "- Todo\n",
    "- Warning, Warnings (alias of Warning)\n",
    "- ...\n",
    "\n",
    "Pour plus d'information, voir la page de [napoleon](http://www.sphinx-doc.org/en/stable/ext/napoleon.html)."
   ]
  },
  {
   "cell_type": "markdown",
   "metadata": {
    "slideshow": {
     "slide_type": "slide"
    }
   },
   "source": [
    "## nbsphinx"
   ]
  },
  {
   "cell_type": "markdown",
   "metadata": {
    "slideshow": {
     "slide_type": "subslide"
    }
   },
   "source": [
    "Il est toujours intéressant de mettre des tutoriels dans son package permettant aux nouveaux utilisateurs de se familiariser rapidement avec l'outil.\n",
    "\n",
    "Les `notebooks` s'y prêtent très bien.\n",
    "\n",
    "`nbsphinx` permet d'intégrer ces notebooks à la documentation."
   ]
  },
  {
   "cell_type": "markdown",
   "metadata": {
    "slideshow": {
     "slide_type": "subslide"
    }
   },
   "source": [
    "### Installation"
   ]
  },
  {
   "cell_type": "code",
   "execution_count": null,
   "metadata": {
    "collapsed": true
   },
   "outputs": [],
   "source": [
    "pip install nbsphinx"
   ]
  },
  {
   "cell_type": "markdown",
   "metadata": {},
   "source": [
    "ou"
   ]
  },
  {
   "cell_type": "code",
   "execution_count": null,
   "metadata": {
    "collapsed": true
   },
   "outputs": [],
   "source": [
    "conda install -c conda-forge nbsphinx"
   ]
  },
  {
   "cell_type": "markdown",
   "metadata": {
    "slideshow": {
     "slide_type": "subslide"
    }
   },
   "source": [
    "### Configuration\n",
    "\n",
    "- Ajouter l'extension dans le fichier `conf.py`"
   ]
  },
  {
   "cell_type": "code",
   "execution_count": null,
   "metadata": {
    "collapsed": true
   },
   "outputs": [],
   "source": [
    "extensions = [..., 'nbsphinx', ...]"
   ]
  },
  {
   "cell_type": "markdown",
   "metadata": {},
   "source": [
    "- Exclure les fichiers temporaires"
   ]
  },
  {
   "cell_type": "code",
   "execution_count": null,
   "metadata": {
    "collapsed": true
   },
   "outputs": [],
   "source": [
    "exclude_patterns = [..., '**.ipynb_checkpoints']"
   ]
  },
  {
   "cell_type": "markdown",
   "metadata": {
    "slideshow": {
     "slide_type": "subslide"
    }
   },
   "source": [
    "### Les notebooks\n",
    "\n",
    "Il est possible ensuite de mettre les `notebooks` dans le `toctree` au même titre que les fichiers `rst`.\n",
    "\n",
    "**Remarque**\n",
    "\n",
    "Conserver les notebooks à la racine du projet est préférable pour qu'ils restent bien visible.\n",
    "\n",
    "Dans sphinx, il n'est pas possible de spécifier un autre répertoire où aller chercher la documentation que celui où se trouve le fichier `conf.py`.\n",
    "\n",
    "Une façon de faire est d'utiliser le package [nbsphinx-link](https://pypi.org/project/nbsphinx-link/)."
   ]
  },
  {
   "cell_type": "markdown",
   "metadata": {
    "slideshow": {
     "slide_type": "slide"
    }
   },
   "source": [
    "## Read The Docs"
   ]
  },
  {
   "cell_type": "markdown",
   "metadata": {
    "slideshow": {
     "slide_type": "subslide"
    }
   },
   "source": [
    "- construit et héberge votre documentation sphinx\n",
    "- version basée sur votre CSV (git, mercurial, ...)\n",
    "- chaque `tag` et `branche` sont convertis en version\n",
    "- conserve l'historique des différentes versions"
   ]
  },
  {
   "cell_type": "markdown",
   "metadata": {
    "slideshow": {
     "slide_type": "subslide"
    }
   },
   "source": [
    "### Post commit hook\n",
    "\n",
    "- supporte `github` et `bitbucket`\n",
    "- construction automatique lors d'un `push`\n",
    "- documentation toujours à jour !!\n",
    "- supporte le multi langage"
   ]
  },
  {
   "cell_type": "markdown",
   "metadata": {
    "slideshow": {
     "slide_type": "subslide"
    }
   },
   "source": [
    "<center>\n",
    "Un lien unique pour toutes les documentations\n",
    "</center>\n",
    "\n",
    "<center>\n",
    "    <a href=\"https://readthedocs.org/\">https://readthedocs.org/</a>\n",
    "</center>"
   ]
  },
  {
   "cell_type": "markdown",
   "metadata": {
    "slideshow": {
     "slide_type": "subslide"
    }
   },
   "source": [
    "### Recherche dans la documentation\n",
    "\n",
    "- Plus puissant que celle disponible de base dans `sphinx`.\n",
    "- Tout est indexé via `Elasticsearch`.\n",
    "- Recherche `plein texte`."
   ]
  },
  {
   "cell_type": "markdown",
   "metadata": {
    "slideshow": {
     "slide_type": "subslide"
    }
   },
   "source": [
    "### Multi formats\n",
    "\n",
    "- html\n",
    "- pdf\n",
    "- zipped html\n",
    "- epub"
   ]
  },
  {
   "cell_type": "markdown",
   "metadata": {
    "slideshow": {
     "slide_type": "subslide"
    }
   },
   "source": [
    "### Le thème\n",
    "\n",
    "`ReadTheDocs` offre un thème par défaut. Vous pouvez le mettre dans `sphinx` pour voir le rendu lorsque vous générez votre documentation en local.\n",
    "\n",
    "- Installation du thème"
   ]
  },
  {
   "cell_type": "code",
   "execution_count": null,
   "metadata": {
    "collapsed": true
   },
   "outputs": [],
   "source": [
    "pip install sphinx_rtd_theme"
   ]
  },
  {
   "cell_type": "markdown",
   "metadata": {},
   "source": [
    "- Configuration dans `conf.py`"
   ]
  },
  {
   "cell_type": "code",
   "execution_count": null,
   "metadata": {
    "collapsed": true
   },
   "outputs": [],
   "source": [
    "html_theme = \"sphinx_rtd_theme\""
   ]
  },
  {
   "cell_type": "markdown",
   "metadata": {
    "slideshow": {
     "slide_type": "slide"
    }
   },
   "source": [
    "### Références\n",
    "\n",
    "- [Sphinx tutorial](https://github.com/ericholscher/sphinx-tutorial)\n",
    "- [blog d'Eric Holscher](http://ericholscher.com/blog/2016/jul/1/sphinx-and-rtd-for-writers/)\n",
    "- [What to write](https://jacobian.org/writing/what-to-write/) - Jacob Kaplan-Moss\n",
    "- [Teach, Don't Tell](http://stevelosh.com/blog/2013/09/teach-dont-tell/) - Steve Losh "
   ]
  }
 ],
 "metadata": {
  "celltoolbar": "Slideshow",
  "kernelspec": {
   "display_name": "Python 3",
   "language": "python",
   "name": "python3"
  },
  "language_info": {
   "codemirror_mode": {
    "name": "ipython",
    "version": 3
   },
   "file_extension": ".py",
   "mimetype": "text/x-python",
   "name": "python",
   "nbconvert_exporter": "python",
   "pygments_lexer": "ipython3",
   "version": "3.6.7"
  },
  "livereveal": {
   "autolaunch": true,
   "scroll": true,
   "width": "80%"
  }
 },
 "nbformat": 4,
 "nbformat_minor": 2
}
