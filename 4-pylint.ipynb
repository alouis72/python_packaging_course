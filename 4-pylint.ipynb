{
 "cells": [
  {
   "cell_type": "markdown",
   "metadata": {
    "slideshow": {
     "slide_type": "slide"
    }
   },
   "source": [
    "# Analyse de code statique\n",
    "\n",
    "<center>\n",
    "<span style=\"font-style: italic\">Loic Gouarin</span>\n",
    "</center>\n",
    "<center>\n",
    "<span>du 22 au 24 mai 2019</span>\n",
    "</center>"
   ]
  },
  {
   "cell_type": "markdown",
   "metadata": {
    "slideshow": {
     "slide_type": "slide"
    }
   },
   "source": [
    "### But\n",
    "\n",
    "- Définir un cadre de développement.\n",
    "- S'assurer que les autres développeurs potentiels comprennent ce cadre facilement.\n",
    "- Conserver une uniformité dans le code."
   ]
  },
  {
   "cell_type": "markdown",
   "metadata": {
    "slideshow": {
     "slide_type": "slide"
    }
   },
   "source": [
    "### Définition d'une analyse de code statique\n",
    "\n",
    "Vérifie certains comportements d'un programme\n",
    "\n",
    "- variables non utilisées,\n",
    "- paramètres de fonctions non utilisés,\n",
    "- comportements étranges\n",
    "- ..."
   ]
  },
  {
   "cell_type": "markdown",
   "metadata": {
    "slideshow": {
     "slide_type": "slide"
    }
   },
   "source": [
    "### Intérêt\n",
    "\n",
    "- vérifier son code sans l'exécuter,\n",
    "- permettre une première validation avant d'écrire les tests,\n",
    "- permettre de faire une première relecture du code de manière automatique,\n",
    "- définir un cadre de développement."
   ]
  },
  {
   "cell_type": "markdown",
   "metadata": {
    "slideshow": {
     "slide_type": "slide"
    }
   },
   "source": [
    "### PEP 8\n",
    "\n",
    "Le langage Python définit un certain nombre de règles via le [PEP 8](https://www.python.org/dev/peps/pep-0008/)\n",
    "\n",
    "- règle de nommages, \n",
    "- règle d'espaces, \n",
    "- règle d'indentation, \n",
    "- ..."
   ]
  },
  {
   "cell_type": "markdown",
   "metadata": {
    "slideshow": {
     "slide_type": "subslide"
    }
   },
   "source": [
    "### Quelques extraits du PEP 8\n",
    "\n",
    "- Le nombre d'espaces d'une indentation est de 4.\n",
    "- Le nombre maximal de caractères sur une ligne est de 79.\n",
    "- Les `import` doivent être sur des lignes séparées.\n",
    "- Les noms de classes doivent suivre la convention `CapWords`.\n",
    "- ..."
   ]
  },
  {
   "cell_type": "markdown",
   "metadata": {
    "slideshow": {
     "slide_type": "subslide"
    }
   },
   "source": [
    "### Les outils Python\n",
    "\n",
    "- pep8\n",
    "- flake8\n",
    "- pyflakes\n",
    "- pylint"
   ]
  },
  {
   "cell_type": "markdown",
   "metadata": {
    "slideshow": {
     "slide_type": "slide"
    }
   },
   "source": [
    "## Pylint"
   ]
  },
  {
   "cell_type": "markdown",
   "metadata": {
    "slideshow": {
     "slide_type": "subslide"
    }
   },
   "source": [
    "### historique\n",
    "\n",
    "- Créé par Sylvain Thenault de Logilab en 2003.\n",
    "- L'analyseur de code statique le plus vieux maintenu.\n",
    "- Google utilise sa propre version `gpylint`.\n",
    "- S'appuie sur `astroid`."
   ]
  },
  {
   "cell_type": "markdown",
   "metadata": {
    "slideshow": {
     "slide_type": "subslide"
    }
   },
   "source": [
    "### Pourquoi utiliser cet outil ?\n",
    "\n",
    "C'est le seul outil qui permet de\n",
    "\n",
    "- vérifier le style du code pour qu'il soit conforme au PEP 8,\n",
    "- analyse de codes suspicieux,\n",
    "- analyse de type et de la structure.\n",
    "\n",
    "De plus, `Pylint` est ultra configurable."
   ]
  },
  {
   "cell_type": "markdown",
   "metadata": {
    "slideshow": {
     "slide_type": "subslide"
    }
   },
   "source": [
    "### Installation"
   ]
  },
  {
   "cell_type": "code",
   "execution_count": null,
   "metadata": {
    "collapsed": true
   },
   "outputs": [],
   "source": [
    "pip install pylint"
   ]
  },
  {
   "cell_type": "markdown",
   "metadata": {
    "slideshow": {
     "slide_type": "subslide"
    }
   },
   "source": [
    "### Utilisation\n",
    "\n",
    "- sur un fichier Python"
   ]
  },
  {
   "cell_type": "code",
   "execution_count": null,
   "metadata": {
    "collapsed": true
   },
   "outputs": [],
   "source": [
    "pylint mon_fichier.py"
   ]
  },
  {
   "cell_type": "markdown",
   "metadata": {},
   "source": [
    "- sur un package"
   ]
  },
  {
   "cell_type": "code",
   "execution_count": null,
   "metadata": {
    "collapsed": true
   },
   "outputs": [],
   "source": [
    "pylint mon_package"
   ]
  },
  {
   "cell_type": "markdown",
   "metadata": {
    "slideshow": {
     "slide_type": "slide"
    }
   },
   "source": [
    "## Exemples"
   ]
  },
  {
   "cell_type": "code",
   "execution_count": null,
   "metadata": {
    "collapsed": true,
    "slideshow": {
     "slide_type": "subslide"
    }
   },
   "outputs": [],
   "source": [
    "%%file examples/linter/pep8.py\n",
    "class maCLasse:\n",
    "    def __init__(a, b = 4):\n",
    "          self.a = 5\n",
    "\n",
    "def fonctionADD(a, b,c):\n",
    "    return a+b"
   ]
  },
  {
   "cell_type": "code",
   "execution_count": 6,
   "metadata": {},
   "outputs": [
    {
     "name": "stdout",
     "output_type": "stream",
     "text": [
      "No config file found, using default configuration\r\n",
      "************* Module pep8\r\n",
      "C:  2, 0: No space allowed around keyword argument assignment\r\n",
      "    def __init__(a, b = 4):\r\n",
      "                      ^ (bad-whitespace)\r\n",
      "W:  3, 0: Bad indentation. Found 10 spaces, expected 8 (bad-indentation)\r\n",
      "C:  5, 0: Exactly one space required after comma\r\n",
      "def fonctionADD(a, b,c):\r\n",
      "                    ^ (bad-whitespace)\r\n",
      "C:  6, 0: Final newline missing (missing-final-newline)\r\n",
      "C:  1, 0: Missing module docstring (missing-docstring)\r\n",
      "C:  1, 0: Invalid class name \"maCLasse\" (invalid-name)\r\n",
      "C:  1, 0: Missing class docstring (missing-docstring)\r\n",
      "E:  2, 4: Method should have \"self\" as first argument (no-self-argument)\r\n",
      "E:  3,10: Undefined variable 'self' (undefined-variable)\r\n",
      "W:  2,20: Unused argument 'b' (unused-argument)\r\n",
      "R:  1, 0: Too few public methods (0/2) (too-few-public-methods)\r\n",
      "C:  5, 0: Invalid function name \"fonctionADD\" (invalid-name)\r\n",
      "C:  5, 0: Invalid argument name \"a\" (invalid-name)\r\n",
      "C:  5, 0: Invalid argument name \"b\" (invalid-name)\r\n",
      "C:  5, 0: Invalid argument name \"c\" (invalid-name)\r\n",
      "C:  5, 0: Missing function docstring (missing-docstring)\r\n",
      "W:  5,21: Unused argument 'c' (unused-argument)\r\n",
      "\r\n",
      "----------------------------------------------------------------------\r\n",
      "Your code has been rated at -40.00/10 (previous run: -40.00/10, +0.00)\r\n",
      "\r\n"
     ]
    }
   ],
   "source": [
    "! pylint examples/linter/pep8.py"
   ]
  },
  {
   "cell_type": "code",
   "execution_count": 4,
   "metadata": {
    "slideshow": {
     "slide_type": "subslide"
    }
   },
   "outputs": [
    {
     "name": "stdout",
     "output_type": "stream",
     "text": [
      "Overwriting examples/linter/missing.py\n"
     ]
    }
   ],
   "source": [
    "%%file examples/linter/missing.py\n",
    "def process_stuff(params):\n",
    "    executed = False\n",
    "    if not params:\n",
    "        raise ValueError('empty command list')\n",
    "        for foo in params:\n",
    "            foo.execute\n"
   ]
  },
  {
   "cell_type": "code",
   "execution_count": 5,
   "metadata": {},
   "outputs": [
    {
     "name": "stdout",
     "output_type": "stream",
     "text": [
      "************* Module missing\n",
      "examples/linter/missing.py:6:0: C0304: Final newline missing (missing-final-newline)\n",
      "examples/linter/missing.py:1:0: C0111: Missing module docstring (missing-docstring)\n",
      "examples/linter/missing.py:1:0: C0111: Missing function docstring (missing-docstring)\n",
      "examples/linter/missing.py:5:8: W0101: Unreachable code (unreachable)\n",
      "examples/linter/missing.py:5:12: C0102: Black listed name \"foo\" (blacklisted-name)\n",
      "examples/linter/missing.py:6:12: W0104: Statement seems to have no effect (pointless-statement)\n",
      "examples/linter/missing.py:2:4: W0612: Unused variable 'executed' (unused-variable)\n",
      "\n",
      "--------------------------------------------------------------------\n",
      "Your code has been rated at -1.67/10 (previous run: -1.67/10, +0.00)\n",
      "\n"
     ]
    }
   ],
   "source": [
    "! pylint examples/linter/missing.py"
   ]
  },
  {
   "cell_type": "code",
   "execution_count": null,
   "metadata": {
    "collapsed": true,
    "slideshow": {
     "slide_type": "subslide"
    }
   },
   "outputs": [],
   "source": [
    "%%file examples/linter/numpy_check.py\n",
    "import numpy as np\n",
    "\n",
    "a = np.zeros((10, 10), dtype=np.int322)\n",
    "np.sum(a, axes=0)"
   ]
  },
  {
   "cell_type": "code",
   "execution_count": 8,
   "metadata": {},
   "outputs": [
    {
     "name": "stdout",
     "output_type": "stream",
     "text": [
      "No config file found, using default configuration\n",
      "************* Module numpy_check\n",
      "C:  4, 0: Final newline missing (missing-final-newline)\n",
      "C:  1, 0: Missing module docstring (missing-docstring)\n",
      "C:  3, 0: Invalid constant name \"a\" (invalid-name)\n",
      "E:  3,29: Module 'numpy' has no 'int322' member; maybe 'int32'? (no-member)\n",
      "E:  4, 0: Unexpected keyword argument 'axes' in function call (unexpected-keyword-arg)\n",
      "\n",
      "----------------------------------------------------------------------\n",
      "Your code has been rated at -33.33/10 (previous run: -33.33/10, +0.00)\n",
      "\n"
     ]
    }
   ],
   "source": [
    "! pylint examples/linter/numpy_check.py"
   ]
  },
  {
   "cell_type": "code",
   "execution_count": null,
   "metadata": {
    "collapsed": true,
    "slideshow": {
     "slide_type": "subslide"
    }
   },
   "outputs": [],
   "source": [
    "%%file examples/linter/similarities/module1.py\n",
    "\n",
    "def function1(array):\n",
    "    for i in range(10):\n",
    "        for j in range(10):\n",
    "            if (i+j) & 1:\n",
    "                array[i][j] = 1\n",
    "            else:\n",
    "                array[i][j] = 0                "
   ]
  },
  {
   "cell_type": "code",
   "execution_count": null,
   "metadata": {
    "collapsed": true
   },
   "outputs": [],
   "source": [
    "%%file examples/linter/similarities/module2.py\n",
    "\n",
    "def function2(array):\n",
    "    print(array[0])\n",
    "    for i in range(10):\n",
    "        for j in range(10):\n",
    "            if (i+j) & 1:\n",
    "                array[i][j] = 1\n",
    "            else:\n",
    "                array[i][j] = 0"
   ]
  },
  {
   "cell_type": "code",
   "execution_count": 9,
   "metadata": {},
   "outputs": [
    {
     "name": "stdout",
     "output_type": "stream",
     "text": [
      "No config file found, using default configuration\r\n",
      "************* Module similarities.module1\r\n",
      "C:  8, 0: Final newline missing (missing-final-newline)\r\n",
      "C:  1, 0: Missing module docstring (missing-docstring)\r\n",
      "C:  2, 0: Missing function docstring (missing-docstring)\r\n",
      "************* Module similarities.module2\r\n",
      "C:  9, 0: Final newline missing (missing-final-newline)\r\n",
      "C:  1, 0: Missing module docstring (missing-docstring)\r\n",
      "C:  2, 0: Missing function docstring (missing-docstring)\r\n",
      "R:  1, 0: Similar lines in 2 files\r\n",
      "==similarities.module1:2\r\n",
      "==similarities.module2:3\r\n",
      "    for i in range(10):\r\n",
      "        for j in range(10):\r\n",
      "            if (i+j) & 1:\r\n",
      "                array[i][j] = 1\r\n",
      "            else:\r\n",
      "                array[i][j] = 0 (duplicate-code)\r\n",
      "\r\n",
      "------------------------------------------------------------------\r\n",
      "Your code has been rated at 4.62/10 (previous run: 4.62/10, +0.00)\r\n",
      "\r\n"
     ]
    }
   ],
   "source": [
    "! pylint examples/linter/similarities"
   ]
  },
  {
   "cell_type": "code",
   "execution_count": null,
   "metadata": {
    "collapsed": true,
    "slideshow": {
     "slide_type": "subslide"
    }
   },
   "outputs": [],
   "source": [
    "%%file examples/linter/py2to3.py\n",
    "def div(a, b):\n",
    "    for i in xrange(5):\n",
    "        print i\n",
    "    return a/b"
   ]
  },
  {
   "cell_type": "code",
   "execution_count": 10,
   "metadata": {},
   "outputs": [
    {
     "name": "stdout",
     "output_type": "stream",
     "text": [
      "No config file found, using default configuration\n",
      "************* Module py2to3\n",
      "W:  2,13: xrange built-in referenced (xrange-builtin)\n",
      "E:  3, 8: print statement used (print-statement)\n",
      "W:  4,11: division w/o __future__ statement (old-division)\n",
      "\n",
      "--------------------------------------------------------------------\n",
      "Your code has been rated at -7.50/10 (previous run: -7.50/10, +0.00)\n",
      "\n"
     ]
    }
   ],
   "source": [
    "! /home/loic/miniconda3/envs/python2.7/bin/pylint --py3k examples/linter/py2to3.py"
   ]
  },
  {
   "cell_type": "code",
   "execution_count": null,
   "metadata": {
    "collapsed": true,
    "slideshow": {
     "slide_type": "subslide"
    }
   },
   "outputs": [],
   "source": [
    "%%file examples/linter/numpy_doc.py\n",
    "\n",
    "def awesome_function(tomatoes, banana):\n",
    "    \"\"\"\n",
    "    This is an awesome function !!\n",
    "\n",
    "    Parameters\n",
    "    ----------\n",
    "\n",
    "    tomatoes:\n",
    "        red fruit\n",
    "\n",
    "    apple : int\n",
    "        number of apple\n",
    "    \"\"\"\n",
    "\n",
    "    print(tomatoes)\n",
    "    print(banana)\n",
    "\n",
    "    return tomatoes[0]\n"
   ]
  },
  {
   "cell_type": "code",
   "execution_count": 11,
   "metadata": {},
   "outputs": [
    {
     "name": "stdout",
     "output_type": "stream",
     "text": [
      "No config file found, using default configuration\r\n",
      "************* Module numpy_doc\r\n",
      "C: 19, 0: Final newline missing (missing-final-newline)\r\n",
      "C:  1, 0: Missing module docstring (missing-docstring)\r\n",
      "W:  2, 0: \"banana\" missing in parameter documentation (missing-param-doc)\r\n",
      "W:  2, 0: \"banana, tomatoes\" missing in parameter type documentation (missing-type-doc)\r\n",
      "W:  2, 0: \"apple\" differing in parameter documentation (differing-param-doc)\r\n",
      "W:  2, 0: \"apple\" differing in parameter type documentation (differing-type-doc)\r\n",
      "W:  2, 0: Missing return documentation (missing-return-doc)\r\n",
      "W:  2, 0: Missing return type documentation (missing-return-type-doc)\r\n",
      "\r\n",
      "----------------------------------------------------------------------\r\n",
      "Your code has been rated at -10.00/10 (previous run: -10.00/10, +0.00)\r\n",
      "\r\n"
     ]
    }
   ],
   "source": [
    "! pylint --load-plugins=pylint.extensions.docparams examples/linter/numpy_doc.py"
   ]
  },
  {
   "cell_type": "code",
   "execution_count": null,
   "metadata": {
    "collapsed": true,
    "slideshow": {
     "slide_type": "subslide"
    }
   },
   "outputs": [],
   "source": [
    "%%file examples/linter/spellcheck.py\n",
    "\n",
    "def some_function():\n",
    "    \"\"\"\n",
    "    This fonction does nothing.\n",
    "\n",
    "    But it's a example of spell checking\n",
    "    using pylint.\n",
    "\n",
    "    Don't look at the grammar and work only\n",
    "    for doc strings and comments.\n",
    "    \"\"\"\n",
    "    pass"
   ]
  },
  {
   "cell_type": "code",
   "execution_count": 12,
   "metadata": {},
   "outputs": [
    {
     "name": "stdout",
     "output_type": "stream",
     "text": [
      "No config file found, using default configuration\n",
      "************* Module spellcheck\n",
      "C: 12, 0: Final newline missing (missing-final-newline)\n",
      "C:  1, 0: Missing module docstring (missing-docstring)\n",
      "C:  4, 0: Wrong spelling of a word 'fonction' in a docstring:\n",
      "    This fonction does nothing.\n",
      "         ^^^^^^^^\n",
      "Did you mean: ''function' or 'concoction' or 'nonfiction' or 'fiction''? (wrong-spelling-in-docstring)\n",
      "\n",
      "--------------------------------------------------------------------\n",
      "Your code has been rated at -5.00/10 (previous run: -5.00/10, +0.00)\n",
      "\n"
     ]
    }
   ],
   "source": [
    "! pylint --spelling-dict en_US examples/linter/spellcheck.py"
   ]
  },
  {
   "cell_type": "markdown",
   "metadata": {
    "slideshow": {
     "slide_type": "subslide"
    }
   },
   "source": [
    "### Annuler certaines vérifications"
   ]
  },
  {
   "cell_type": "code",
   "execution_count": null,
   "metadata": {
    "collapsed": true
   },
   "outputs": [],
   "source": [
    "%%file examples/linter/disable.py\n",
    "\n",
    "# pylint: disable=invalid-name\n",
    "def function1():\n",
    "    for a in range(10):\n",
    "        print(a)\n"
   ]
  },
  {
   "cell_type": "code",
   "execution_count": 13,
   "metadata": {},
   "outputs": [
    {
     "name": "stdout",
     "output_type": "stream",
     "text": [
      "No config file found, using default configuration\n",
      "************* Module disable\n",
      "C:  5, 0: Final newline missing (missing-final-newline)\n",
      "C:  1, 0: Missing module docstring (missing-docstring)\n",
      "C:  3, 0: Missing function docstring (missing-docstring)\n",
      "\n",
      "------------------------------------------------------------------\n",
      "Your code has been rated at 0.00/10 (previous run: 0.00/10, +0.00)\n",
      "\n"
     ]
    }
   ],
   "source": [
    "! pylint examples/linter/disable.py"
   ]
  },
  {
   "cell_type": "markdown",
   "metadata": {
    "slideshow": {
     "slide_type": "slide"
    }
   },
   "source": [
    "### Fichier de configuration"
   ]
  },
  {
   "cell_type": "markdown",
   "metadata": {},
   "source": [
    "- Si vous souhaitez qu'il soit utilisé dès que l'on appelle pylint"
   ]
  },
  {
   "cell_type": "code",
   "execution_count": null,
   "metadata": {
    "collapsed": true
   },
   "outputs": [],
   "source": [
    "! pylint --generate-rcfile > ~/.pylintrc"
   ]
  },
  {
   "cell_type": "markdown",
   "metadata": {},
   "source": [
    "- Si vous souhaitez qu'il soit utilisé uniquement pour un module ou un paquet précis"
   ]
  },
  {
   "cell_type": "code",
   "execution_count": null,
   "metadata": {
    "collapsed": true
   },
   "outputs": [],
   "source": [
    "! pylint --generate-rcfile > pyrcfile\n",
    "! pylint --rcfile pyrcfile ..."
   ]
  },
  {
   "cell_type": "markdown",
   "metadata": {
    "slideshow": {
     "slide_type": "subslide"
    }
   },
   "source": [
    "### Que contient ce fichier ?\n",
    "\n",
    "- La possibilité de configurer tout ce qu'on a vu avant.\n",
    "- Une gestion plus fine (par exemple les expressions régulières satisfaisant la PEP 8).\n",
    "- Le formatage des messages de sortie et le calcul du score.\n",
    "- La possibiité d'exécuter pylint en multi-threads.\n",
    "- ..."
   ]
  },
  {
   "cell_type": "markdown",
   "metadata": {
    "slideshow": {
     "slide_type": "slide"
    }
   },
   "source": [
    "### Références\n",
    "\n",
    "- [12 years of Pylint](http://pcmanticore.github.io/pylint-talks) - Claudio Paupa\n",
    "\n",
    "- [don't use this code](https://github.com/markshannon/dont_use_this_code) - Mark Shannon"
   ]
  }
 ],
 "metadata": {
  "celltoolbar": "Slideshow",
  "kernelspec": {
   "display_name": "Python 3",
   "language": "python",
   "name": "python3"
  },
  "language_info": {
   "codemirror_mode": {
    "name": "ipython",
    "version": 3
   },
   "file_extension": ".py",
   "mimetype": "text/x-python",
   "name": "python",
   "nbconvert_exporter": "python",
   "pygments_lexer": "ipython3",
   "version": "3.6.7"
  },
  "livereveal": {
   "autolaunch": true,
   "scroll": true,
   "width": "80%"
  }
 },
 "nbformat": 4,
 "nbformat_minor": 2
}
