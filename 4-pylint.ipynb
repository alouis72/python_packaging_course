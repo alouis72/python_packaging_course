{
 "cells": [
  {
   "cell_type": "markdown",
   "metadata": {
    "slideshow": {
     "slide_type": "slide"
    }
   },
   "source": [
    "<center class=\"mytitle\">\n",
    "**Python avancé**\n",
    "</center>\n",
    "\n",
    "# Analyse de code statique\n",
    "\n",
    "<center>\n",
    "<span>**Loic Gouarin**</span>\n",
    "</center>\n",
    "<center>\n",
    "<span>du 4 au 6 avril 2018</span>\n",
    "</center>"
   ]
  },
  {
   "cell_type": "markdown",
   "metadata": {
    "slideshow": {
     "slide_type": "slide"
    }
   },
   "source": [
    "### But\n",
    "\n",
    "- Définir un cadre de développement.\n",
    "- S'assurer que les autres développeurs potentiels comprennent ce cadre facilement.\n",
    "- Conserver une uniformité dans le code."
   ]
  },
  {
   "cell_type": "markdown",
   "metadata": {
    "slideshow": {
     "slide_type": "slide"
    }
   },
   "source": [
    "### Définition d'une analyse de code statique\n",
    "\n",
    "Vérifie certains comportements d'un programme\n",
    "\n",
    "- variables non utilisées,\n",
    "- paramètres de fonctions non utilisés,\n",
    "- comportements étranges\n",
    "- ..."
   ]
  },
  {
   "cell_type": "markdown",
   "metadata": {
    "slideshow": {
     "slide_type": "slide"
    }
   },
   "source": [
    "### Intérêt\n",
    "\n",
    "- vérifier son code sans l'exécuter,\n",
    "- permettre une première validation avant d'écrire les tests,\n",
    "- permettre de faire une première relecture du code de manière automatique,\n",
    "- définir un cadre de développement."
   ]
  },
  {
   "cell_type": "markdown",
   "metadata": {
    "slideshow": {
     "slide_type": "slide"
    }
   },
   "source": [
    "### PEP 8\n",
    "\n",
    "Le langage Python définit un certain nombre de règles via le [PEP 8](https://www.python.org/dev/peps/pep-0008/)\n",
    "\n",
    "- règle de nommages, \n",
    "- règle d'espaces, \n",
    "- règle d'indentation, \n",
    "- ..."
   ]
  },
  {
   "cell_type": "markdown",
   "metadata": {
    "slideshow": {
     "slide_type": "subslide"
    }
   },
   "source": [
    "### Quelques extraits du PEP 8\n",
    "\n",
    "- Le nombre d'espaces d'une indentation est de 4.\n",
    "- Le nombre maximal de caractères sur une ligne est de 79.\n",
    "- Les `import` doivent être sur des lignes séparées.\n",
    "- Les noms de classes doivent suivre la convention `CapWords`.\n",
    "- ..."
   ]
  },
  {
   "cell_type": "markdown",
   "metadata": {
    "slideshow": {
     "slide_type": "subslide"
    }
   },
   "source": [
    "### Les outils Python\n",
    "\n",
    "- pep8\n",
    "- flake8\n",
    "- pyflakes\n",
    "- pylint"
   ]
  },
  {
   "cell_type": "markdown",
   "metadata": {
    "slideshow": {
     "slide_type": "slide"
    }
   },
   "source": [
    "## Pylint"
   ]
  },
  {
   "cell_type": "markdown",
   "metadata": {
    "slideshow": {
     "slide_type": "subslide"
    }
   },
   "source": [
    "### historique\n",
    "\n",
    "- Créé par Sylvain Thenault de Logilab en 2003.\n",
    "- L'analyseur de code statique le plus vieux maintenu.\n",
    "- Google utilise sa propre version `gpylint`.\n",
    "- S'appuie sur `astroid`."
   ]
  },
  {
   "cell_type": "markdown",
   "metadata": {
    "slideshow": {
     "slide_type": "subslide"
    }
   },
   "source": [
    "### Pourquoi utiliser cet outil ?\n",
    "\n",
    "C'est le seul outil qui permet de\n",
    "\n",
    "- vérifier le style du code pour qu'il soit conforme au PEP 8,\n",
    "- analyse de codes suspicieux,\n",
    "- analyse de type et de la structure.\n",
    "\n",
    "De plus, `Pylint` est ultra configurable."
   ]
  },
  {
   "cell_type": "markdown",
   "metadata": {
    "slideshow": {
     "slide_type": "subslide"
    }
   },
   "source": [
    "### Installation"
   ]
  },
  {
   "cell_type": "code",
   "execution_count": null,
   "metadata": {
    "collapsed": true
   },
   "outputs": [],
   "source": [
    "pip install pylint"
   ]
  },
  {
   "cell_type": "markdown",
   "metadata": {
    "slideshow": {
     "slide_type": "subslide"
    }
   },
   "source": [
    "### Utilisation\n",
    "\n",
    "- sur un fichier Python"
   ]
  },
  {
   "cell_type": "code",
   "execution_count": null,
   "metadata": {
    "collapsed": true
   },
   "outputs": [],
   "source": [
    "pylint mon_fichier.py"
   ]
  },
  {
   "cell_type": "markdown",
   "metadata": {},
   "source": [
    "- sur un package"
   ]
  },
  {
   "cell_type": "code",
   "execution_count": null,
   "metadata": {
    "collapsed": true
   },
   "outputs": [],
   "source": [
    "pytlint mon_package"
   ]
  },
  {
   "cell_type": "markdown",
   "metadata": {
    "slideshow": {
     "slide_type": "slide"
    }
   },
   "source": [
    "## Exemples"
   ]
  },
  {
   "cell_type": "code",
   "execution_count": null,
   "metadata": {
    "collapsed": true,
    "slideshow": {
     "slide_type": "subslide"
    }
   },
   "outputs": [],
   "source": [
    "%%file examples/linter/pep8.py\n",
    "class maCLasse:\n",
    "    def __init__(a, b = 4):\n",
    "          self.a = 5\n",
    "\n",
    "def fonctionADD(a, b,c):\n",
    "    return a+b"
   ]
  },
  {
   "cell_type": "code",
   "execution_count": null,
   "metadata": {},
   "outputs": [],
   "source": [
    "! pylint examples/linter/pep8.py"
   ]
  },
  {
   "cell_type": "code",
   "execution_count": null,
   "metadata": {
    "collapsed": true,
    "slideshow": {
     "slide_type": "subslide"
    }
   },
   "outputs": [],
   "source": [
    "%%file examples/linter/missing.py\n",
    "def process_stuff(params):\n",
    "    executed = False\n",
    "    if not params:\n",
    "        raise ValueError('empty command list')\n",
    "        for foo in params:\n",
    "            foo.execute\n"
   ]
  },
  {
   "cell_type": "code",
   "execution_count": null,
   "metadata": {},
   "outputs": [],
   "source": [
    "! pylint examples/linter/missing.py"
   ]
  },
  {
   "cell_type": "code",
   "execution_count": null,
   "metadata": {
    "collapsed": true,
    "slideshow": {
     "slide_type": "subslide"
    }
   },
   "outputs": [],
   "source": [
    "%%file examples/linter/numpy_check.py\n",
    "import numpy as np\n",
    "\n",
    "a = np.zeros((10, 10), dtype=np.int322)\n",
    "np.sum(a, axes=0)"
   ]
  },
  {
   "cell_type": "code",
   "execution_count": null,
   "metadata": {},
   "outputs": [],
   "source": [
    "! pylint examples/linter/numpy_check.py"
   ]
  },
  {
   "cell_type": "code",
   "execution_count": null,
   "metadata": {
    "collapsed": true,
    "slideshow": {
     "slide_type": "subslide"
    }
   },
   "outputs": [],
   "source": [
    "%%file examples/linter/similarities/module1.py\n",
    "\n",
    "def function1(array):\n",
    "    for i in range(10):\n",
    "        for j in range(10):\n",
    "            if (i+j) & 1:\n",
    "                array[i][j] = 1\n",
    "            else:\n",
    "                array[i][j] = 0                "
   ]
  },
  {
   "cell_type": "code",
   "execution_count": null,
   "metadata": {
    "collapsed": true
   },
   "outputs": [],
   "source": [
    "%%file examples/linter/similarities/module2.py\n",
    "\n",
    "def function2(array):\n",
    "    print(array[0])\n",
    "    for i in range(10):\n",
    "        for j in range(10):\n",
    "            if (i+j) & 1:\n",
    "                array[i][j] = 1\n",
    "            else:\n",
    "                array[i][j] = 0"
   ]
  },
  {
   "cell_type": "code",
   "execution_count": null,
   "metadata": {},
   "outputs": [],
   "source": [
    "! pylint examples/linter/similarities"
   ]
  },
  {
   "cell_type": "code",
   "execution_count": null,
   "metadata": {
    "collapsed": true,
    "slideshow": {
     "slide_type": "subslide"
    }
   },
   "outputs": [],
   "source": [
    "%%file examples/linter/py2to3.py\n",
    "def div(a, b):\n",
    "    for i in xrange(5):\n",
    "        print i\n",
    "    return a/b"
   ]
  },
  {
   "cell_type": "code",
   "execution_count": null,
   "metadata": {},
   "outputs": [],
   "source": [
    "! /home/loic/miniconda3/envs/python2.7/bin/pylint --py3k examples/linter/py2to3.py"
   ]
  },
  {
   "cell_type": "code",
   "execution_count": null,
   "metadata": {
    "collapsed": true,
    "slideshow": {
     "slide_type": "subslide"
    }
   },
   "outputs": [],
   "source": [
    "%%file examples/linter/numpy_doc.py\n",
    "\n",
    "def awesome_function(tomatoes, banana):\n",
    "    \"\"\"\n",
    "    This is an awesome function !!\n",
    "\n",
    "    Parameters\n",
    "    ----------\n",
    "\n",
    "    tomatoes:\n",
    "        red fruit\n",
    "\n",
    "    apple : int\n",
    "        number of apple\n",
    "    \"\"\"\n",
    "\n",
    "    print(tomatoes)\n",
    "    print(banana)\n",
    "\n",
    "    return tomatoes[0]\n"
   ]
  },
  {
   "cell_type": "code",
   "execution_count": null,
   "metadata": {},
   "outputs": [],
   "source": [
    "! pylint --load-plugins=pylint.extensions.docparams examples/linter/numpy_doc.py"
   ]
  },
  {
   "cell_type": "code",
   "execution_count": null,
   "metadata": {
    "collapsed": true,
    "slideshow": {
     "slide_type": "subslide"
    }
   },
   "outputs": [],
   "source": [
    "%%file examples/linter/spellcheck.py\n",
    "\n",
    "def some_function():\n",
    "    \"\"\"\n",
    "    This fonction does nothing.\n",
    "\n",
    "    But it's a example of spell checking\n",
    "    using pylint.\n",
    "\n",
    "    Don't look at the grammar and work only\n",
    "    for doc strings and comments.\n",
    "    \"\"\"\n",
    "    pass"
   ]
  },
  {
   "cell_type": "code",
   "execution_count": null,
   "metadata": {},
   "outputs": [],
   "source": [
    "! pylint --spelling-dict en_US examples/linter/spellcheck.py"
   ]
  },
  {
   "cell_type": "markdown",
   "metadata": {
    "slideshow": {
     "slide_type": "subslide"
    }
   },
   "source": [
    "### Annuler certaines vérifications"
   ]
  },
  {
   "cell_type": "code",
   "execution_count": null,
   "metadata": {
    "collapsed": true
   },
   "outputs": [],
   "source": [
    "%%file examples/linter/disable.py\n",
    "\n",
    "# pylint: disable=invalid-name\n",
    "def function1():\n",
    "    for a in range(10):\n",
    "        print(a)\n"
   ]
  },
  {
   "cell_type": "code",
   "execution_count": null,
   "metadata": {},
   "outputs": [],
   "source": [
    "! pylint examples/linter/disable.py"
   ]
  },
  {
   "cell_type": "markdown",
   "metadata": {
    "slideshow": {
     "slide_type": "slide"
    }
   },
   "source": [
    "### Fichier de configuration"
   ]
  },
  {
   "cell_type": "markdown",
   "metadata": {},
   "source": [
    "- Si vous souhaitez qu'il soit utilisé dès que l'on appelle pylint"
   ]
  },
  {
   "cell_type": "code",
   "execution_count": null,
   "metadata": {
    "collapsed": true
   },
   "outputs": [],
   "source": [
    "! pylint --generate-rcfile > ~/.pyrcfile"
   ]
  },
  {
   "cell_type": "markdown",
   "metadata": {},
   "source": [
    "- Si vous souhaitez qu'il soit utilisé uniquement pour un module ou un paquet précis"
   ]
  },
  {
   "cell_type": "code",
   "execution_count": null,
   "metadata": {
    "collapsed": true
   },
   "outputs": [],
   "source": [
    "! pylint --generate-rcfile > pyrcfile\n",
    "! pylint --rcfile pyrcfile ..."
   ]
  },
  {
   "cell_type": "markdown",
   "metadata": {
    "slideshow": {
     "slide_type": "subslide"
    }
   },
   "source": [
    "### Que contient ce fichier ?\n",
    "\n",
    "- La possibilité de configurer tout ce qu'on a vu avant.\n",
    "- Une gestion plus fine (par exemple les expressions régulières satisfaisant la PEP 8).\n",
    "- Le formatage des messages de sortie et le calcul du score.\n",
    "- La possibiité d'exécuter pylint en multi-threads.\n",
    "- ..."
   ]
  },
  {
   "cell_type": "markdown",
   "metadata": {
    "slideshow": {
     "slide_type": "slide"
    }
   },
   "source": [
    "### Références\n",
    "\n",
    "- [12 years of Pylint](http://pcmanticore.github.io/pylint-talks) - Claudio Paupa\n",
    "\n",
    "- [don't use this code](https://github.com/markshannon/dont_use_this_code) - Mark Shannon"
   ]
  },
  {
   "cell_type": "code",
   "execution_count": null,
   "metadata": {
    "collapsed": true
   },
   "outputs": [],
   "source": []
  }
 ],
 "metadata": {
  "celltoolbar": "Slideshow",
  "kernelspec": {
   "display_name": "Python 3",
   "language": "python",
   "name": "python3"
  },
  "language_info": {
   "codemirror_mode": {
    "name": "ipython",
    "version": 3
   },
   "file_extension": ".py",
   "mimetype": "text/x-python",
   "name": "python",
   "nbconvert_exporter": "python",
   "pygments_lexer": "ipython3",
   "version": "3.6.4"
  },
  "livereveal": {
   "autolaunch": true,
   "width": "80%"
  }
 },
 "nbformat": 4,
 "nbformat_minor": 2
}
