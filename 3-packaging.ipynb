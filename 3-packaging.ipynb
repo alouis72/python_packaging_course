{
 "cells": [
  {
   "cell_type": "markdown",
   "metadata": {
    "slideshow": {
     "slide_type": "slide"
    }
   },
   "source": [
    "<center class=\"mytitle\">\n",
    "**Python avancé**\n",
    "</center>\n",
    "\n",
    "# packaging\n",
    "\n",
    "<center>\n",
    "<span>**Loic Gouarin**</span>\n",
    "</center>\n",
    "<center>\n",
    "<span>21 et 22 novembre 2017</span>\n",
    "</center>"
   ]
  },
  {
   "cell_type": "markdown",
   "metadata": {
    "slideshow": {
     "slide_type": "slide"
    }
   },
   "source": [
    "### Pourquoi ?\n",
    "\n",
    "- structuration\n",
    "- modularité\n",
    "- portabilité\n",
    "- diffusion"
   ]
  },
  {
   "cell_type": "markdown",
   "metadata": {
    "slideshow": {
     "slide_type": "slide"
    }
   },
   "source": [
    "### Définitions\n",
    "\n",
    "Il est facile d'étendre les fonctionnalités de Python en créant des modules et/ou des packages.\n",
    "\n",
    "- un module est un fichier regroupant un ensemble de fonctions, de classes, ...\n",
    "- un package est un répretoire regroupant un ensemble de modules\n"
   ]
  },
  {
   "cell_type": "markdown",
   "metadata": {
    "slideshow": {
     "slide_type": "slide"
    }
   },
   "source": [
    "## Un module"
   ]
  },
  {
   "cell_type": "markdown",
   "metadata": {
    "slideshow": {
     "slide_type": "subslide"
    }
   },
   "source": [
    "### Exemple de module\n",
    "\n",
    "Afin d'illustrer l'utilisation d'un module en Python, nous allons écrire un calculateur qui sait uniquement faire une addition et une soustraction.\n",
    "\n",
    "Voici le script **calculator.py**."
   ]
  },
  {
   "cell_type": "code",
   "execution_count": 22,
   "metadata": {},
   "outputs": [
    {
     "name": "stdout",
     "output_type": "stream",
     "text": [
      "Writing calculator_mod.py\n"
     ]
    }
   ],
   "source": [
    "%%file calculator_mod.py\n",
    "\"\"\"\n",
    "Calculator module\n",
    "\"\"\"\n",
    "\n",
    "def add(a, b):\n",
    "    \"\"\"\n",
    "    return a + b\n",
    "    \"\"\"\n",
    "    return a + b\n",
    "\n",
    "def sub(a, b): \n",
    "    \"\"\"\n",
    "    return a - b\n",
    "    \"\"\"\n",
    "    return a - b"
   ]
  },
  {
   "cell_type": "markdown",
   "metadata": {
    "slideshow": {
     "slide_type": "subslide"
    }
   },
   "source": [
    "### Utilisation d'un module\n",
    "\n",
    "Il existe différentes manières d'importer un module en utilisant le mot-clef **import**.\n",
    "\n",
    "On peut importer un module via son nom.\n"
   ]
  },
  {
   "cell_type": "code",
   "execution_count": 1,
   "metadata": {},
   "outputs": [
    {
     "data": {
      "text/plain": [
       "3"
      ]
     },
     "execution_count": 1,
     "metadata": {},
     "output_type": "execute_result"
    }
   ],
   "source": [
    "import calculator_mod\n",
    "calculator_mod.add(1, 2)"
   ]
  },
  {
   "cell_type": "markdown",
   "metadata": {},
   "source": [
    "On peut importer une partie d'un module."
   ]
  },
  {
   "cell_type": "code",
   "execution_count": 2,
   "metadata": {},
   "outputs": [
    {
     "data": {
      "text/plain": [
       "-1"
      ]
     },
     "execution_count": 2,
     "metadata": {},
     "output_type": "execute_result"
    }
   ],
   "source": [
    "from calculator_mod import sub\n",
    "sub(1, 2)"
   ]
  },
  {
   "cell_type": "markdown",
   "metadata": {
    "slideshow": {
     "slide_type": "subslide"
    }
   },
   "source": [
    "On peut importer un module en modifiant son nom d'appel."
   ]
  },
  {
   "cell_type": "code",
   "execution_count": 3,
   "metadata": {},
   "outputs": [
    {
     "data": {
      "text/plain": [
       "3"
      ]
     },
     "execution_count": 3,
     "metadata": {},
     "output_type": "execute_result"
    }
   ],
   "source": [
    "import calculator_mod as calc\n",
    "calc.add(1, 2)"
   ]
  },
  {
   "cell_type": "markdown",
   "metadata": {},
   "source": [
    "On peut importer l'ensemble du module."
   ]
  },
  {
   "cell_type": "code",
   "execution_count": 4,
   "metadata": {},
   "outputs": [
    {
     "data": {
      "text/plain": [
       "3"
      ]
     },
     "execution_count": 4,
     "metadata": {},
     "output_type": "execute_result"
    }
   ],
   "source": [
    "from calculator_mod import * \n",
    "add(1, 2)"
   ]
  },
  {
   "cell_type": "markdown",
   "metadata": {},
   "source": [
    "On évitera par la suite ce type d'import qui est jugé dangereux."
   ]
  },
  {
   "cell_type": "markdown",
   "metadata": {
    "slideshow": {
     "slide_type": "subslide"
    }
   },
   "source": [
    "`import` définit explicitement certains attributs du module\n",
    "\n",
    "- `__dict__` : dictionnaire utilisé par le module pour l'espace de noms des attributs\n",
    "- `__name__` : nom du module\n",
    "- `__file__` : fichier du module\n",
    "- `__doc__` : documentation du module"
   ]
  },
  {
   "cell_type": "code",
   "execution_count": 28,
   "metadata": {
    "slideshow": {
     "slide_type": "subslide"
    }
   },
   "outputs": [
    {
     "name": "stdout",
     "output_type": "stream",
     "text": [
      "file /home/loic/Formations/2017/python/cnrs/calculator_mod.py\n",
      "name calculator_mod\n",
      "doc \n",
      "Calculator module\n",
      "\n"
     ]
    }
   ],
   "source": [
    "print('file', calculator_mod.__file__)\n",
    "print('name', calculator_mod.__name__)\n",
    "print('doc', calculator_mod.__doc__)"
   ]
  },
  {
   "cell_type": "markdown",
   "metadata": {
    "slideshow": {
     "slide_type": "subslide"
    }
   },
   "source": [
    "### Remarque\n",
    "\n",
    "Lors de l'exécution d'un programme, le module n'est importé qu'une seule fois.  "
   ]
  },
  {
   "cell_type": "markdown",
   "metadata": {
    "slideshow": {
     "slide_type": "subslide"
    }
   },
   "source": [
    "### Exécution d'un module\n",
    "\n",
    "On peut ajouter à la fin d'un module le test suivant:"
   ]
  },
  {
   "cell_type": "code",
   "execution_count": null,
   "metadata": {
    "collapsed": true
   },
   "outputs": [],
   "source": [
    "if __name__ == '__main__':\n",
    "    print(add(1, 2))"
   ]
  },
  {
   "cell_type": "markdown",
   "metadata": {},
   "source": [
    "On peut à présent exécuter le module."
   ]
  },
  {
   "cell_type": "code",
   "execution_count": 5,
   "metadata": {
    "slideshow": {
     "slide_type": "subslide"
    }
   },
   "outputs": [
    {
     "name": "stdout",
     "output_type": "stream",
     "text": [
      "Overwriting calculator_mod.py\n"
     ]
    }
   ],
   "source": [
    "%%file calculator_mod.py\n",
    "\"\"\"\n",
    "Calculator module\n",
    "\"\"\"\n",
    "\n",
    "def add(a, b):\n",
    "    \"\"\"\n",
    "    return a + b\n",
    "    \"\"\"\n",
    "    return a + b\n",
    "\n",
    "def sub(a, b): \n",
    "    \"\"\"\n",
    "    return a - b\n",
    "    \"\"\"\n",
    "    return a - b\n",
    "\n",
    "if __name__ == '__main__':\n",
    "    print(add(1, 2))"
   ]
  },
  {
   "cell_type": "code",
   "execution_count": 6,
   "metadata": {
    "slideshow": {
     "slide_type": "-"
    }
   },
   "outputs": [
    {
     "name": "stdout",
     "output_type": "stream",
     "text": [
      "3\r\n"
     ]
    }
   ],
   "source": [
    "! python calculator_mod.py"
   ]
  },
  {
   "cell_type": "markdown",
   "metadata": {
    "slideshow": {
     "slide_type": "slide"
    }
   },
   "source": [
    "## Un package"
   ]
  },
  {
   "cell_type": "markdown",
   "metadata": {
    "slideshow": {
     "slide_type": "subslide"
    }
   },
   "source": [
    "### Exemple de package\n",
    "\n",
    "Comme dit en introduction, un package est un ensemble de modules Python. Prenons l'arborescence suivante"
   ]
  },
  {
   "cell_type": "code",
   "execution_count": 16,
   "metadata": {},
   "outputs": [
    {
     "name": "stdout",
     "output_type": "stream",
     "text": [
      "\u001b[01;34mexamples/calculator/\u001b[00m\r\n",
      "├── __init__.py\r\n",
      "├── \u001b[01;34moperator1\u001b[00m\r\n",
      "│   ├── add.py\r\n",
      "│   ├── __init__.py\r\n",
      "│   └── sub.py\r\n",
      "└── \u001b[01;34moperator2\u001b[00m\r\n",
      "    ├── __init__.py\r\n",
      "    └── mult.py\r\n",
      "\r\n",
      "2 directories, 6 files\r\n"
     ]
    }
   ],
   "source": [
    "! tree examples/calculator/"
   ]
  },
  {
   "cell_type": "markdown",
   "metadata": {
    "slideshow": {
     "slide_type": "subslide"
    }
   },
   "source": [
    "### Le fichier `__init__.py`\n",
    "\n",
    "- Il est obligatoire pour que Python considère les répertoires comme contenant des packages ou modules.\n",
    "- Il peut être vide.\n",
    "- Il peut contenir du code d'initialisation.\n",
    "- Il peut contenir des `import`.\n",
    "- Il peut contenir la variable `__all__`."
   ]
  },
  {
   "cell_type": "markdown",
   "metadata": {
    "slideshow": {
     "slide_type": "subslide"
    }
   },
   "source": [
    "### Exemple `calculator/operator1/__init__.py`"
   ]
  },
  {
   "cell_type": "code",
   "execution_count": 17,
   "metadata": {
    "collapsed": true
   },
   "outputs": [],
   "source": [
    "__all__ = [\"add\", \"sub\"]"
   ]
  },
  {
   "cell_type": "markdown",
   "metadata": {},
   "source": [
    "De cette manière, on peut importer `add` et `sub` en faisant tout simplement"
   ]
  },
  {
   "cell_type": "code",
   "execution_count": 10,
   "metadata": {
    "collapsed": true
   },
   "outputs": [],
   "source": [
    "import sys\n",
    "sys.path.append(\"./examples\")"
   ]
  },
  {
   "cell_type": "code",
   "execution_count": 12,
   "metadata": {
    "collapsed": true
   },
   "outputs": [],
   "source": [
    "from calculator_1.operator1 import *"
   ]
  },
  {
   "cell_type": "markdown",
   "metadata": {},
   "source": [
    "On accède ensuite aux attributs et aux fonctions en faisant"
   ]
  },
  {
   "cell_type": "code",
   "execution_count": 13,
   "metadata": {
    "slideshow": {
     "slide_type": "-"
    }
   },
   "outputs": [
    {
     "name": "stdout",
     "output_type": "stream",
     "text": [
      "3\n",
      "-1\n"
     ]
    }
   ],
   "source": [
    "print(add.add(1, 2))\n",
    "print(sub.sub(1, 2))"
   ]
  },
  {
   "cell_type": "markdown",
   "metadata": {
    "slideshow": {
     "slide_type": "subslide"
    }
   },
   "source": [
    "### Import relatif\n",
    "\n",
    "Dans `calculator_1/__init__.py`"
   ]
  },
  {
   "cell_type": "code",
   "execution_count": null,
   "metadata": {
    "collapsed": true
   },
   "outputs": [],
   "source": [
    "from . import operator2\n",
    "from .operator2 import mult"
   ]
  },
  {
   "cell_type": "markdown",
   "metadata": {},
   "source": [
    "Dans `calculator_1/operator1/__init__.py`"
   ]
  },
  {
   "cell_type": "code",
   "execution_count": null,
   "metadata": {
    "collapsed": true
   },
   "outputs": [],
   "source": [
    "from .. import operator2\n",
    "from ..operator2 import mult"
   ]
  },
  {
   "cell_type": "markdown",
   "metadata": {
    "slideshow": {
     "slide_type": "subslide"
    }
   },
   "source": [
    "### Remarque"
   ]
  },
  {
   "cell_type": "markdown",
   "metadata": {},
   "source": [
    "Si vous voulez les utiliser en Python 2.7, il faut ajouter"
   ]
  },
  {
   "cell_type": "code",
   "execution_count": 4,
   "metadata": {
    "collapsed": true
   },
   "outputs": [],
   "source": [
    "from __future__ import absolute_import"
   ]
  },
  {
   "cell_type": "markdown",
   "metadata": {
    "slideshow": {
     "slide_type": "slide"
    }
   },
   "source": [
    "## Recherche de modules et de packages"
   ]
  },
  {
   "cell_type": "markdown",
   "metadata": {
    "slideshow": {
     "slide_type": "subslide"
    }
   },
   "source": [
    "Pour que Python importe correctement un module, celui-ci doit être dans son **PATH**. Le module `sys` permet de connaître la liste des répertoires où Python va rechercher les modules."
   ]
  },
  {
   "cell_type": "code",
   "execution_count": 16,
   "metadata": {
    "collapsed": true
   },
   "outputs": [
    {
     "name": "stdout",
     "output_type": "stream",
     "text": [
      "['', '/home/loic/visit/visit2_12_0.linux-x86_64/2.12.0/linux-x86_64/lib', '/home/loic/visit/visit2_12_0.linux-x86_64/2.12.0/linux-x86_64/lib/site-packages', '/home/loic/Logiciels/bempp_compil/lib/python2.7/site-packages', '/home/loic/Logiciels/tau-2.24/x86_64/lib/bindings', '/home/loic/Formations/2017/python/cnrs', '/home/loic/miniconda3/lib/python36.zip', '/home/loic/miniconda3/lib/python3.6', '/home/loic/miniconda3/lib/python3.6/lib-dynload', '/home/loic/miniconda3/lib/python3.6/site-packages', '/home/loic/miniconda3/lib/python3.6/site-packages/fn-0.1.1-py3.6.egg', '/home/loic/miniconda3/lib/python3.6/site-packages/GitPython-2.1.3-py3.6.egg', '/home/loic/miniconda3/lib/python3.6/site-packages/docopt-0.6.2-py3.6.egg', '/home/loic/miniconda3/lib/python3.6/site-packages/gitdb2-2.0.0-py3.6.egg', '/home/loic/miniconda3/lib/python3.6/site-packages/smmap2-2.0.1-py3.6.egg', '/home/loic/miniconda3/lib/python3.6/site-packages/fast_sand_paint-0.1.0-py3.6-linux-x86_64.egg', '/home/loic/miniconda3/lib/python3.6/site-packages/cairocffi-0.8.0-py3.6.egg', '/home/loic/miniconda3/lib/python3.6/site-packages/pyLBM-0.3.0-py3.6.egg', '/home/loic/miniconda3/lib/python3.6/site-packages/PyEVTK-1.0.0-py3.6.egg', '/home/loic/miniconda3/lib/python3.6/site-packages/setuptools-27.2.0-py3.6.egg', '/home/loic/miniconda3/lib/python3.6/site-packages/pyopencl-2017.1-py3.6-linux-x86_64.egg', '/home/loic/miniconda3/lib/python3.6/site-packages/loo.py-2016.2-py3.6.egg', '/home/loic/miniconda3/lib/python3.6/site-packages/colorama-0.3.9-py3.6.egg', '/home/loic/miniconda3/lib/python3.6/site-packages/islpy-2016.2.2-py3.6-linux-x86_64.egg', '/home/loic/miniconda3/lib/python3.6/site-packages/cgen-2016.2.3-py3.6.egg', '/home/loic/miniconda3/lib/python3.6/site-packages/genpy-2016.1.3-py3.6.egg', '/home/loic/miniconda3/lib/python3.6/site-packages/pymbolic-2017.1-py3.6.egg', '/home/loic/miniconda3/lib/python3.6/site-packages/pythran-0.8.0-py3.6.egg', '/home/loic/miniconda3/lib/python3.6/site-packages/sortedcollections-0.5.3-py3.6.egg', '/home/loic/miniconda3/lib/python3.6/site-packages/dask_ndfilters-0.1.2+8.gfcaae4e-py3.6.egg', '/home/loic/miniconda3/lib/python3.6/site-packages/numba-0.34.0.dev0+402.g5c099e37f-py3.6-linux-x86_64.egg', '/home/loic/miniconda3/lib/python3.6/site-packages/nbody-0.0.0-py3.6-linux-x86_64.egg', '/home/loic/miniconda3/lib/python3.6/site-packages/bqplot-0.10.0a5-py3.6.egg', '/home/loic/miniconda3/lib/python3.6/site-packages/IPython/extensions', '/home/loic/.ipython']\n"
     ]
    }
   ],
   "source": [
    "import sys\n",
    "print(sys.path)"
   ]
  },
  {
   "cell_type": "markdown",
   "metadata": {
    "slideshow": {
     "slide_type": "subslide"
    }
   },
   "source": [
    "Python va donc rechercher dans\n",
    "\n",
    "- le répertoire courant\n",
    "- dans **PYTHONPATH** si défini (c'est la même syntaxe que le **PATH**)\n",
    "- dans un répertoire par défaut\n",
    "\n",
    "On peut également rajouter des répertoires à l'exécution étant donné que `sys.path` n'est qu'une liste."
   ]
  },
  {
   "cell_type": "code",
   "execution_count": 17,
   "metadata": {
    "collapsed": true
   },
   "outputs": [
    {
     "name": "stdout",
     "output_type": "stream",
     "text": [
      "['', '/home/loic/visit/visit2_12_0.linux-x86_64/2.12.0/linux-x86_64/lib', '/home/loic/visit/visit2_12_0.linux-x86_64/2.12.0/linux-x86_64/lib/site-packages', '/home/loic/Logiciels/bempp_compil/lib/python2.7/site-packages', '/home/loic/Logiciels/tau-2.24/x86_64/lib/bindings', '/home/loic/Formations/2017/python/cnrs', '/home/loic/miniconda3/lib/python36.zip', '/home/loic/miniconda3/lib/python3.6', '/home/loic/miniconda3/lib/python3.6/lib-dynload', '/home/loic/miniconda3/lib/python3.6/site-packages', '/home/loic/miniconda3/lib/python3.6/site-packages/fn-0.1.1-py3.6.egg', '/home/loic/miniconda3/lib/python3.6/site-packages/GitPython-2.1.3-py3.6.egg', '/home/loic/miniconda3/lib/python3.6/site-packages/docopt-0.6.2-py3.6.egg', '/home/loic/miniconda3/lib/python3.6/site-packages/gitdb2-2.0.0-py3.6.egg', '/home/loic/miniconda3/lib/python3.6/site-packages/smmap2-2.0.1-py3.6.egg', '/home/loic/miniconda3/lib/python3.6/site-packages/fast_sand_paint-0.1.0-py3.6-linux-x86_64.egg', '/home/loic/miniconda3/lib/python3.6/site-packages/cairocffi-0.8.0-py3.6.egg', '/home/loic/miniconda3/lib/python3.6/site-packages/pyLBM-0.3.0-py3.6.egg', '/home/loic/miniconda3/lib/python3.6/site-packages/PyEVTK-1.0.0-py3.6.egg', '/home/loic/miniconda3/lib/python3.6/site-packages/setuptools-27.2.0-py3.6.egg', '/home/loic/miniconda3/lib/python3.6/site-packages/pyopencl-2017.1-py3.6-linux-x86_64.egg', '/home/loic/miniconda3/lib/python3.6/site-packages/loo.py-2016.2-py3.6.egg', '/home/loic/miniconda3/lib/python3.6/site-packages/colorama-0.3.9-py3.6.egg', '/home/loic/miniconda3/lib/python3.6/site-packages/islpy-2016.2.2-py3.6-linux-x86_64.egg', '/home/loic/miniconda3/lib/python3.6/site-packages/cgen-2016.2.3-py3.6.egg', '/home/loic/miniconda3/lib/python3.6/site-packages/genpy-2016.1.3-py3.6.egg', '/home/loic/miniconda3/lib/python3.6/site-packages/pymbolic-2017.1-py3.6.egg', '/home/loic/miniconda3/lib/python3.6/site-packages/pythran-0.8.0-py3.6.egg', '/home/loic/miniconda3/lib/python3.6/site-packages/sortedcollections-0.5.3-py3.6.egg', '/home/loic/miniconda3/lib/python3.6/site-packages/dask_ndfilters-0.1.2+8.gfcaae4e-py3.6.egg', '/home/loic/miniconda3/lib/python3.6/site-packages/numba-0.34.0.dev0+402.g5c099e37f-py3.6-linux-x86_64.egg', '/home/loic/miniconda3/lib/python3.6/site-packages/nbody-0.0.0-py3.6-linux-x86_64.egg', '/home/loic/miniconda3/lib/python3.6/site-packages/bqplot-0.10.0a5-py3.6.egg', '/home/loic/miniconda3/lib/python3.6/site-packages/IPython/extensions', '/home/loic/.ipython', '/home/loic/Formations/']\n"
     ]
    }
   ],
   "source": [
    "sys.path.append(\"/home/loic/Formations/\")\n",
    "print(sys.path)"
   ]
  },
  {
   "cell_type": "markdown",
   "metadata": {
    "slideshow": {
     "slide_type": "subslide"
    }
   },
   "source": [
    "Lorsque l'on veut importer **foo**, voici l'ordre des fichiers recherchés dans **sys.path**.\n",
    "\n",
    "- **foo.dll**, **foo.dylib** ou **foo.so**\n",
    "- **foo.py**\n",
    "- **foo.pyc**\n",
    "- **foo/\\_\\_init__.py**"
   ]
  },
  {
   "cell_type": "markdown",
   "metadata": {
    "slideshow": {
     "slide_type": "slide"
    }
   },
   "source": [
    "## Le packaging"
   ]
  },
  {
   "cell_type": "markdown",
   "metadata": {
    "slideshow": {
     "slide_type": "subslide"
    }
   },
   "source": [
    "### Le contenu à diffuser\n",
    "\n",
    "- des modules et des sous packages\n",
    "- des données\n",
    "- des scripts\n",
    "- des dépendances\n",
    "\n",
    "&nbsp;\n",
    "\n",
    "<center>\n",
    "**Attention**\n",
    "</center>\n",
    "<center>\n",
    "A partir du moment où l'on **diffuse**, il est indispensable de mettre une **licence**.\n",
    "</center>"
   ]
  },
  {
   "cell_type": "markdown",
   "metadata": {
    "slideshow": {
     "slide_type": "subslide"
    }
   },
   "source": [
    "### Les fichiers nécessaires\n",
    "\n",
    "Les indispensables\n",
    "\n",
    "- `setup.py`\n",
    "- `README.rst` ou `README.md`\n",
    "- `LICENSE.txt`\n",
    "- votre `package`\n",
    "\n",
    "Les optionnels\n",
    "\n",
    "- `setup.cfg` \n",
    "- `MANIFEST.in`"
   ]
  },
  {
   "cell_type": "markdown",
   "metadata": {
    "slideshow": {
     "slide_type": "subslide"
    }
   },
   "source": [
    "### Arborescence classique\n",
    "\n",
    "    package/\n",
    "        doc/\n",
    "        examples/\n",
    "        package/\n",
    "            ...\n",
    "            tests/\n",
    "        tests/\n",
    "        LICENSE.txt\n",
    "        README.rst\n",
    "        setup.py"
   ]
  },
  {
   "cell_type": "markdown",
   "metadata": {
    "slideshow": {
     "slide_type": "subslide"
    }
   },
   "source": [
    "### Les outils\n",
    "\n",
    "- distutils\n",
    "- **setuptools**"
   ]
  },
  {
   "cell_type": "markdown",
   "metadata": {
    "slideshow": {
     "slide_type": "subslide"
    }
   },
   "source": [
    "### Premier exemple de `setup.py`"
   ]
  },
  {
   "cell_type": "code",
   "execution_count": null,
   "metadata": {
    "collapsed": true
   },
   "outputs": [],
   "source": [
    "from setuptools import setup, find_packages\n",
    "\n",
    "setup(\n",
    "    name = \"calculator\",\n",
    "    packages = find_packages(),\n",
    ")"
   ]
  },
  {
   "cell_type": "markdown",
   "metadata": {
    "slideshow": {
     "slide_type": "subslide"
    }
   },
   "source": [
    "- `name` : nom du projet (faire en sorte qu'il ne soit pas trop éloigné du nom du package).\n",
    "- `find_packages` : regarde dans le répertoire quels sont les modules et les packages présents (`__init__.py`).\n",
    "\n",
    "    - `include` : définit les répertoires à inspecter.\n",
    "    - `exclude` : définit les répertoires à exclure."
   ]
  },
  {
   "cell_type": "code",
   "execution_count": null,
   "metadata": {
    "collapsed": true,
    "slideshow": {
     "slide_type": "subslide"
    }
   },
   "outputs": [],
   "source": [
    "from setuptools import setup, find_packages\n",
    "\n",
    "setup(\n",
    "    name = \"calculator\",\n",
    "    packages = find_packages(exclude=['demo', 'doc', 'test*']),\n",
    ")"
   ]
  },
  {
   "cell_type": "markdown",
   "metadata": {
    "slideshow": {
     "slide_type": "subslide"
    }
   },
   "source": [
    "### Gestion des dépendences\n",
    "\n",
    "Il est possible de spécifier les dépendances de son package. \n",
    "\n",
    "Par exemple, il est nécessaire d'avoir NumPy pour que celui-ci fonctionne. "
   ]
  },
  {
   "cell_type": "code",
   "execution_count": null,
   "metadata": {
    "collapsed": true
   },
   "outputs": [],
   "source": [
    "setup(\n",
    "    ...\n",
    "    install_requires=['numpy'],\n",
    "    ...\n",
    ")"
   ]
  },
  {
   "cell_type": "markdown",
   "metadata": {
    "slideshow": {
     "slide_type": "subslide"
    }
   },
   "source": [
    "### Gestion des dépendances\n",
    "\n",
    "On peut également spécifier une version"
   ]
  },
  {
   "cell_type": "code",
   "execution_count": null,
   "metadata": {
    "collapsed": true
   },
   "outputs": [],
   "source": [
    "setup(\n",
    "    ...\n",
    "    install_requires=['numpy>=1.0,<1.13'],\n",
    "    ...\n",
    ")"
   ]
  },
  {
   "cell_type": "markdown",
   "metadata": {
    "slideshow": {
     "slide_type": "subslide"
    }
   },
   "source": [
    "### Gestion des dépendances\n",
    "\n",
    "A partir d'un dépôt git (hg, svn)"
   ]
  },
  {
   "cell_type": "code",
   "execution_count": null,
   "metadata": {
    "collapsed": true
   },
   "outputs": [],
   "source": [
    "setup(\n",
    "    ...\n",
    "    install_requires=['numpy==1.13.3'],\n",
    "    dependency_links=[\n",
    "        \"git+https://github.com/numpy/numpy.git@v1.13.3#egg=numpy-1.13.3\"\n",
    "    ]\n",
    "    ...\n",
    ")"
   ]
  },
  {
   "cell_type": "markdown",
   "metadata": {},
   "source": [
    "Après le `@`, on peut mettre\n",
    "\n",
    "- un tag\n",
    "- l'identifiant d'un commit spécifique"
   ]
  },
  {
   "cell_type": "markdown",
   "metadata": {
    "slideshow": {
     "slide_type": "subslide"
    }
   },
   "source": [
    "### Ajout de données\n",
    "\n",
    "- Un package peut avoir besoin de fichiers autre que Python.\n",
    "- On peut vouloir donner de l'information supplémentaire."
   ]
  },
  {
   "cell_type": "markdown",
   "metadata": {
    "slideshow": {
     "slide_type": "subslide"
    }
   },
   "source": [
    "### Ajout de données\n",
    "\n",
    "\n",
    "- `include_package_data` permet d'inclure des fichiers et des dossiers satisfaits par `MANIFEST.in`.\n",
    "- `package_data` permet de spécifier des fichiers ou dossiers à partir d'expressions (peut s'utiliser en plus de `MANIFEST.in`).\n",
    "- `exclude_package_data` permet de spécifier des fichiers ou dossiers à ajouter dans la distribution mais pas dans l'installation."
   ]
  },
  {
   "cell_type": "markdown",
   "metadata": {
    "slideshow": {
     "slide_type": "subslide"
    }
   },
   "source": [
    "### Ajout de données\n",
    "\n",
    "\n",
    "<center>\n",
    "<img src=\"./images/data/manifest_1.png\" style=\"width: 70%;\"/>\n",
    "</center>"
   ]
  },
  {
   "cell_type": "markdown",
   "metadata": {
    "slideshow": {
     "slide_type": "subslide"
    }
   },
   "source": [
    "### Ajout de données\n",
    "\n",
    "\n",
    "<center>\n",
    "<img src=\"./images/data/manifest_2.png\" style=\"width: 70%;\"/>\n",
    "</center>"
   ]
  },
  {
   "cell_type": "markdown",
   "metadata": {
    "slideshow": {
     "slide_type": "subslide"
    }
   },
   "source": [
    "### Ajout de données\n",
    "\n",
    "\n",
    "<center>\n",
    "<img src=\"./images/data/manifest_3.png\" style=\"width: 70%;\"/>\n",
    "</center>"
   ]
  },
  {
   "cell_type": "markdown",
   "metadata": {
    "slideshow": {
     "slide_type": "subslide"
    }
   },
   "source": [
    "### Ajout de données\n",
    "\n",
    "\n",
    "<center>\n",
    "<img src=\"./images/data/manifest_4.png\" style=\"width: 70%;\"/>\n",
    "</center>"
   ]
  },
  {
   "cell_type": "markdown",
   "metadata": {
    "slideshow": {
     "slide_type": "subslide"
    }
   },
   "source": [
    "### Ajout de données\n",
    "\n",
    "\n",
    "<center>\n",
    "<img src=\"./images/data/package_data_1.png\" style=\"width: 70%;\"/>\n",
    "</center>"
   ]
  },
  {
   "cell_type": "markdown",
   "metadata": {
    "slideshow": {
     "slide_type": "subslide"
    }
   },
   "source": [
    "### Ajout de données\n",
    "\n",
    "\n",
    "<center>\n",
    "<img src=\"./images/data/package_data_2.png\" style=\"width: 70%;\"/>\n",
    "</center>"
   ]
  },
  {
   "cell_type": "markdown",
   "metadata": {
    "slideshow": {
     "slide_type": "subslide"
    }
   },
   "source": [
    "### Ajout de données\n",
    "\n",
    "\n",
    "<center>\n",
    "<img src=\"./images/data/package_data_3.png\" style=\"width: 70%;\"/>\n",
    "</center>"
   ]
  },
  {
   "cell_type": "markdown",
   "metadata": {
    "slideshow": {
     "slide_type": "subslide"
    }
   },
   "source": [
    "### Ajout de données\n",
    "\n",
    "\n",
    "<center>\n",
    "<img src=\"./images/data/package_data_4.png\" style=\"width: 70%;\"/>\n",
    "</center>"
   ]
  },
  {
   "cell_type": "markdown",
   "metadata": {
    "slideshow": {
     "slide_type": "subslide"
    }
   },
   "source": [
    "### Ajout de scripts\n",
    "\n",
    "- `scripts`\n",
    "- `entry_points`\n",
    "\n",
    "On préférera utiliser `entry_points` qui fait en sorte d'être compatible cross-platform."
   ]
  },
  {
   "cell_type": "markdown",
   "metadata": {
    "slideshow": {
     "slide_type": "subslide"
    }
   },
   "source": [
    "### Ajout de scripts"
   ]
  },
  {
   "cell_type": "code",
   "execution_count": null,
   "metadata": {
    "collapsed": true
   },
   "outputs": [],
   "source": [
    "setup(\n",
    "    ...\n",
    "    scripts = ['scripts/calculator'],\n",
    "    ...\n",
    ")"
   ]
  },
  {
   "cell_type": "markdown",
   "metadata": {
    "slideshow": {
     "slide_type": "subslide"
    }
   },
   "source": [
    "### Ajout de scripts"
   ]
  },
  {
   "cell_type": "code",
   "execution_count": null,
   "metadata": {
    "collapsed": true
   },
   "outputs": [],
   "source": [
    "setup(\n",
    "    ...\n",
    "    entry_points={ 'console_scripts': [\n",
    "        'calculator=scripts.command_line:main',\n",
    "        ],\n",
    "    },\n",
    "    ...\n",
    ")"
   ]
  },
  {
   "cell_type": "markdown",
   "metadata": {
    "slideshow": {
     "slide_type": "subslide"
    }
   },
   "source": [
    "### Ajouter une extension\n",
    "\n",
    "Un package ne contient pas forcément uniquement des fichiers Python. On peut par exemple avoir des extensions écrites en `cython`."
   ]
  },
  {
   "cell_type": "code",
   "execution_count": null,
   "metadata": {
    "collapsed": true
   },
   "outputs": [],
   "source": [
    "from setuptools import setup, find_packages\n",
    "from setuptools.extension import Extension\n",
    "from Cython.Build import cythonize\n",
    "\n",
    "extension = [Extension(name = \"calculator.cython_mod\", \n",
    "                       sources = [\"calculator/cython_mod.pyx\"])\n",
    "            ]\n",
    "\n",
    "setup(\n",
    "    ...\n",
    "    ext_modules=cythonize(extension),\n",
    "    ...\n",
    ")"
   ]
  },
  {
   "cell_type": "markdown",
   "metadata": {
    "slideshow": {
     "slide_type": "subslide"
    }
   },
   "source": [
    "### Définir une version\n",
    "\n",
    "Afin de créer par la suite une distribution, il est nécessaire de définir une version du package.\n",
    "\n",
    "On peut utiliser les [règles de sémantique de version](http://semver.org/) MAJOR.MINOR.PATCH\n",
    "\n",
    "- `MAJOR` version utilisée lorsque l'on fait des changements qui sont incompatibles avec l'API précédente.\n",
    "- `MINOR` version utilisée lorsque l'on ajoute de nouvelles fonctionnalités.\n",
    "- `PATCH` version utilisée lorsque l'on corrige des bugs\n",
    "\n",
    "Il est également possible de rajouter des labels à la fin pour dire si ce sont des pré-releases, des versions beta, ..."
   ]
  },
  {
   "cell_type": "markdown",
   "metadata": {
    "slideshow": {
     "slide_type": "subslide"
    }
   },
   "source": [
    "### Définir une version"
   ]
  },
  {
   "cell_type": "code",
   "execution_count": null,
   "metadata": {
    "collapsed": true
   },
   "outputs": [],
   "source": [
    "MAJOR = 0\n",
    "MINOR = 1\n",
    "PATCH = 1\n",
    "VERSION = \"{}.{}.{}\".format(MAJOR, MINOR, MAINTENANCE)\n",
    "\n",
    "with open(\"calculator/version.py\", \"w\") as f:\n",
    "    f.write(\"__version__ = '{}'\\n\".format(VERSION))\n",
    "    \n",
    "setup(\n",
    "    ...\n",
    "    version = VERSION,\n",
    "    ...\n",
    ")"
   ]
  },
  {
   "cell_type": "markdown",
   "metadata": {
    "slideshow": {
     "slide_type": "subslide"
    }
   },
   "source": [
    "### Ajouter une licence\n",
    "\n",
    "Lorsque l'on veut distribuer son package, il est indispensable de mettre une licence. Sinon, une personne tierce n'est pas autorisée à l'utiliser.\n",
    "\n",
    "Les licences les plus connues\n",
    "\n",
    "- GPL\n",
    "- LGPL\n",
    "- CECILL\n",
    "- BSD\n",
    "- MIT\n",
    "\n",
    "Pour plus d'informations, voir la journée LOoPS [\"Je code, je diffuse, oui mais comment ?\"](https://reseau-loops.github.io/journee_2015_11.html)."
   ]
  },
  {
   "cell_type": "markdown",
   "metadata": {
    "slideshow": {
     "slide_type": "subslide"
    }
   },
   "source": [
    "### Ajouter une licence\n",
    "\n",
    "- Ajouter un fichier `LICENSE.txt`\n",
    "- Ajouter un en-tête dans chaque fichier indiquant les auteurs et rappelant la licence."
   ]
  },
  {
   "cell_type": "code",
   "execution_count": null,
   "metadata": {
    "collapsed": true
   },
   "outputs": [],
   "source": [
    "# Authors:\n",
    "#     Loic Gouarin <loic.gouarin@math.u-psud.fr>\n",
    "#\n",
    "# License: BSD 3 clause"
   ]
  },
  {
   "cell_type": "markdown",
   "metadata": {
    "slideshow": {
     "slide_type": "subslide"
    }
   },
   "source": [
    "### Autres informations"
   ]
  },
  {
   "cell_type": "code",
   "execution_count": null,
   "metadata": {
    "collapsed": true
   },
   "outputs": [],
   "source": [
    "setup(\n",
    "    name = \"calculator\",\n",
    "    author = \"Loic Gouarin\",\n",
    "    author_email = \"loic.gouarin@math.u-psud.fr\",\n",
    "    url = \"http://github.com/gouarin/calculator\",\n",
    "    description = \"simple calculator\",\n",
    "    license = \"BSD\",\n",
    "    keywords = \"calculator\",\n",
    "    ...\n",
    ")"
   ]
  },
  {
   "cell_type": "markdown",
   "metadata": {
    "slideshow": {
     "slide_type": "slide"
    }
   },
   "source": [
    "## Rendre le package disponible sur Pypi et conda"
   ]
  },
  {
   "cell_type": "markdown",
   "metadata": {
    "slideshow": {
     "slide_type": "subslide"
    }
   },
   "source": [
    "### sdist et bdist\n",
    "\n",
    "Lorsque l'on veut créer une distribution disponible sur Pypi, nous avons deux options.\n",
    "\n",
    "- `sdist` crée une archive de notre package. Lorsqu'un utilisateur utilise `pip` pour l'installer, le processus suivant est effectué"
   ]
  },
  {
   "cell_type": "code",
   "execution_count": null,
   "metadata": {
    "collapsed": true
   },
   "outputs": [],
   "source": [
    "python setup.py install "
   ]
  },
  {
   "cell_type": "markdown",
   "metadata": {},
   "source": [
    "- `bdist` crée un binaire et est donc spécifique à une plateforme si des modules sont compilés. Ceci permet d'avoir une installation beaucoup plus rapide du fait qu'il n'y a pas de processus de compilation."
   ]
  },
  {
   "cell_type": "markdown",
   "metadata": {
    "slideshow": {
     "slide_type": "subslide"
    }
   },
   "source": [
    "### sdist"
   ]
  },
  {
   "cell_type": "code",
   "execution_count": null,
   "metadata": {
    "collapsed": true
   },
   "outputs": [],
   "source": [
    "python setup.py sdist"
   ]
  },
  {
   "cell_type": "markdown",
   "metadata": {},
   "source": [
    "crée une archive dans le répertoire `dist`."
   ]
  },
  {
   "cell_type": "markdown",
   "metadata": {
    "slideshow": {
     "slide_type": "subslide"
    }
   },
   "source": [
    "### bdist: universal wheels\n",
    "\n",
    "Si le package contient que des fichiers Python et qu'il est compatible Python 2 et 3."
   ]
  },
  {
   "cell_type": "code",
   "execution_count": null,
   "metadata": {
    "collapsed": true
   },
   "outputs": [],
   "source": [
    "python setup.py bdist_wheel --universal"
   ]
  },
  {
   "cell_type": "markdown",
   "metadata": {},
   "source": [
    "ou mettre dans le fichier `setup.cfg`"
   ]
  },
  {
   "cell_type": "code",
   "execution_count": null,
   "metadata": {
    "collapsed": true
   },
   "outputs": [],
   "source": [
    "[bdist_wheel]\n",
    "universal=1"
   ]
  },
  {
   "cell_type": "markdown",
   "metadata": {},
   "source": [
    "On a alors dans le répertoire `dist` le fichier `calculator-0.1.1-py2.py3-none-any.whl`."
   ]
  },
  {
   "cell_type": "markdown",
   "metadata": {
    "slideshow": {
     "slide_type": "subslide"
    }
   },
   "source": [
    "### bdist: pure Python wheels\n",
    "\n",
    "Lorsque le package ne contient que des fichiers Python, mais qu'il ne fonctionne que pour la version 2 ou 3."
   ]
  },
  {
   "cell_type": "code",
   "execution_count": null,
   "metadata": {
    "collapsed": true
   },
   "outputs": [],
   "source": [
    "python setup.py bdist_wheel"
   ]
  },
  {
   "cell_type": "markdown",
   "metadata": {},
   "source": [
    "On a alors dans le répertoire `dist` le fichier `calculator-0.1.1-py3-none-any.whl` si on l'a construit avec un Python 3."
   ]
  },
  {
   "cell_type": "markdown",
   "metadata": {
    "slideshow": {
     "slide_type": "subslide"
    }
   },
   "source": [
    "### bdist: platform wheels\n",
    "\n",
    "Lorsque le package contient des fichiers compilés."
   ]
  },
  {
   "cell_type": "code",
   "execution_count": null,
   "metadata": {
    "collapsed": true
   },
   "outputs": [],
   "source": [
    "python setup.py bdist_wheel"
   ]
  },
  {
   "cell_type": "markdown",
   "metadata": {},
   "source": [
    "On a alors dans le répertoire `dist` le fichier `calculator-0.1.1-cp36-cp36m-linux_x86_64.whl` si on l'a construit avec un Python 3 dans un environnement linux."
   ]
  },
  {
   "cell_type": "markdown",
   "metadata": {
    "slideshow": {
     "slide_type": "subslide"
    }
   },
   "source": [
    "### Classifiers\n",
    "\n",
    "Les classifiers sont utilisés pour spécifier par une liste déjà établie les spécificités du package. Vous avez une liste complète [ici](https://pypi.python.org/pypi?%3Aaction=list_classifiers)."
   ]
  },
  {
   "cell_type": "code",
   "execution_count": null,
   "metadata": {
    "collapsed": true
   },
   "outputs": [],
   "source": [
    "CLASSIFIERS = [\n",
    "    \"Development Status :: 3 - Alpha\",\n",
    "    \"Intended Audience :: Science/Research\",\n",
    "    \"License :: OSI Approved :: BSD License\",\n",
    "    \"Programming Language :: Cython\",\n",
    "    \"Programming Language :: Python :: 2\",\n",
    "    \"Programming Language :: Python :: 2.7\",\n",
    "    \"Programming Language :: Python :: 3\",\n",
    "    \"Programming Language :: Python :: 3.3\",\n",
    "    \"Programming Language :: Python :: 3.4\",\n",
    "    \"Programming Language :: Python :: 3.5\",\n",
    "    \"Topic :: Software Development\",\n",
    "    \"Topic :: Scientific/Engineering\",\n",
    "    \"Operating System :: Microsoft :: Windows\",\n",
    "    \"Operating System :: POSIX\",\n",
    "    \"Operating System :: Unix\",\n",
    "    \"Operating System :: MacOS\"\n",
    "]\n",
    "\n",
    "setup(\n",
    "    ...\n",
    "    classifiers = CLASSIFIERS,\n",
    "    ...\n",
    ")"
   ]
  },
  {
   "cell_type": "markdown",
   "metadata": {
    "slideshow": {
     "slide_type": "subslide"
    }
   },
   "source": [
    "### twine\n",
    "\n",
    "`twine` permet de mettre les distributions créées se trouvant dans le répertoire `dist` sur PyPi. Il existe deux sites\n",
    "\n",
    "- https://pypi.org/ (le site officiel)\n",
    "- https://test.pypi.org/ (le site pour faire des tests)\n",
    "\n",
    "Avant d'utiliser `twine`, il est nécessaire de se créer un compte \n",
    "\n",
    "- https://pypi.org/account/register/\n",
    "- https://test.pypi.org/account/register/"
   ]
  },
  {
   "cell_type": "markdown",
   "metadata": {
    "slideshow": {
     "slide_type": "subslide"
    }
   },
   "source": [
    "### twine\n",
    "\n",
    "Pour mettre l'ensemble des distributions \n",
    "\n",
    "- `pypi.org`"
   ]
  },
  {
   "cell_type": "code",
   "execution_count": null,
   "metadata": {
    "collapsed": true
   },
   "outputs": [],
   "source": [
    "twine upload dist/*"
   ]
  },
  {
   "cell_type": "markdown",
   "metadata": {},
   "source": [
    "- `test.pypi.org`"
   ]
  },
  {
   "cell_type": "code",
   "execution_count": null,
   "metadata": {
    "collapsed": true
   },
   "outputs": [],
   "source": [
    "twine upload --repository-url https://test.pypi.org/legacy/ dist/*"
   ]
  },
  {
   "cell_type": "markdown",
   "metadata": {
    "slideshow": {
     "slide_type": "subslide"
    }
   },
   "source": [
    "### Recherche du package\n",
    "\n",
    "- `pypi.org`"
   ]
  },
  {
   "cell_type": "code",
   "execution_count": null,
   "metadata": {
    "collapsed": true
   },
   "outputs": [],
   "source": [
    "pip search calculator"
   ]
  },
  {
   "cell_type": "markdown",
   "metadata": {},
   "source": [
    "- `test.pypi.org`"
   ]
  },
  {
   "cell_type": "code",
   "execution_count": null,
   "metadata": {
    "collapsed": true
   },
   "outputs": [],
   "source": [
    "pip search --index https://testpypi.python.org/pypi calculator"
   ]
  },
  {
   "cell_type": "markdown",
   "metadata": {
    "slideshow": {
     "slide_type": "subslide"
    }
   },
   "source": [
    "### Configuration de PyPi\n",
    "\n",
    "Pour éviter de taper son mot de passe à chaque fois, il es possible d'écrire un fichier `~/.pypirc` avec les informations suivantes"
   ]
  },
  {
   "cell_type": "code",
   "execution_count": null,
   "metadata": {
    "collapsed": true
   },
   "outputs": [],
   "source": [
    "[pypi]\n",
    "username = <username>\n",
    "password = <password>"
   ]
  },
  {
   "cell_type": "markdown",
   "metadata": {
    "slideshow": {
     "slide_type": "subslide"
    }
   },
   "source": [
    "### conda\n",
    "\n",
    "Il est également possible de mettre son package sur conda. Comme pour PyPi, il est necessaire de se créer un compte pour pouvoir avoir sa propre `channel` (https://anaconda.org/).\n",
    "\n",
    "Il est ensuite nécessaire d'installer différents outils pour pouvoir uploader vos fichiers."
   ]
  },
  {
   "cell_type": "code",
   "execution_count": null,
   "metadata": {
    "collapsed": true
   },
   "outputs": [],
   "source": [
    "conda install conda-build anaconda-client"
   ]
  },
  {
   "cell_type": "markdown",
   "metadata": {
    "slideshow": {
     "slide_type": "subslide"
    }
   },
   "source": [
    "Il est possible d'installer des packages qui ne sont pas forcément écrits en Python. \n",
    "\n",
    "[`conda-forge`](https://conda-forge.org/) est un endroit où l'on peut trouver ces packages. \n",
    "\n",
    "Le but est d'écrire des recettes permettant de compiler le projet sur différentes plateformes (linux, mac OSX, windows).\n",
    "\n",
    "Le processus de soumission peut être assez long, c'est pourquoi nous utiliserons notre propre channel dans la suite."
   ]
  },
  {
   "cell_type": "markdown",
   "metadata": {
    "slideshow": {
     "slide_type": "subslide"
    }
   },
   "source": [
    "Pour utiliser une autre channel que celle par défaut"
   ]
  },
  {
   "cell_type": "code",
   "execution_count": null,
   "metadata": {
    "collapsed": true
   },
   "outputs": [],
   "source": [
    "conda search -c conda-forge jupyterlab "
   ]
  },
  {
   "cell_type": "markdown",
   "metadata": {
    "slideshow": {
     "slide_type": "subslide"
    }
   },
   "source": [
    "### Création du squelette pour conda"
   ]
  },
  {
   "cell_type": "code",
   "execution_count": null,
   "metadata": {
    "collapsed": true
   },
   "outputs": [],
   "source": [
    "conda skeleton pypi recipes"
   ]
  },
  {
   "cell_type": "markdown",
   "metadata": {},
   "source": [
    "Cette commande crée un répertoire `recipes` dans lequel se trouve un fichier `meta.yaml` qu'il faut modifier.\n",
    "\n",
    "Il peut être également nécessaire d'écrire deux autres fichiers\n",
    "\n",
    "- `build.sh` : https://conda.io/docs/_downloads/build1.sh\n",
    "- `build.bat` : https://conda.io/docs/_downloads/bld.bat"
   ]
  },
  {
   "cell_type": "markdown",
   "metadata": {
    "slideshow": {
     "slide_type": "subslide"
    }
   },
   "source": [
    "### Exemple de fichier `meta.yaml`"
   ]
  },
  {
   "cell_type": "code",
   "execution_count": null,
   "metadata": {
    "collapsed": true
   },
   "outputs": [],
   "source": [
    "{% set name = \"calculator\" %}\n",
    "{% set version = \"0.1.1\" %}\n",
    "\n",
    "package:\n",
    "  name: '{{ name|lower }}'\n",
    "  version: '{{ version }}'\n",
    "\n",
    "source:\n",
    "  path: ../\n",
    "\n",
    "build:\n",
    "  number: 0\n",
    "  script: python setup.py install\n",
    "\n",
    "requirements:\n",
    "  build:\n",
    "    - python\n",
    "    - setuptools\n",
    "  run:\n",
    "    - python\n",
    "\n",
    "test:\n",
    "  imports:\n",
    "    - calculator\n",
    "\n",
    "about:\n",
    "  home: http://github.com/gouarin/calculator\n",
    "  license: MIT\n",
    "  description: Simple calculator project\n",
    "\n",
    "extra:\n",
    "  recipe-maintainers: Loic Gouarin <loic.gouarin@gmail.com>"
   ]
  },
  {
   "cell_type": "markdown",
   "metadata": {
    "slideshow": {
     "slide_type": "subslide"
    }
   },
   "source": [
    "### Construction de la recette\n",
    "\n",
    "Une fois les fichiers du répertoire recipes modifiés, il faut exécuter la commande suivante"
   ]
  },
  {
   "cell_type": "code",
   "execution_count": null,
   "metadata": {
    "collapsed": true,
    "slideshow": {
     "slide_type": "-"
    }
   },
   "outputs": [],
   "source": [
    "conda build recipes"
   ]
  },
  {
   "cell_type": "markdown",
   "metadata": {
    "slideshow": {
     "slide_type": "subslide"
    }
   },
   "source": [
    "### Tester en local"
   ]
  },
  {
   "cell_type": "code",
   "execution_count": null,
   "metadata": {
    "collapsed": true
   },
   "outputs": [],
   "source": [
    "conda install --use-local calculator"
   ]
  },
  {
   "cell_type": "markdown",
   "metadata": {
    "slideshow": {
     "slide_type": "subslide"
    }
   },
   "source": [
    "### Uploader les fichiers sur sa channel"
   ]
  },
  {
   "cell_type": "code",
   "execution_count": null,
   "metadata": {
    "collapsed": true
   },
   "outputs": [],
   "source": [
    "conda install anaconda-client\n",
    "anaconda upload /home/loic/miniconda3/conda-bld/linux-64/calculator-0.1.1-py36h585410b_0.tar.bz2"
   ]
  },
  {
   "cell_type": "markdown",
   "metadata": {
    "slideshow": {
     "slide_type": "slide"
    }
   },
   "source": [
    "### Références\n",
    "\n",
    "- [Python Packaging User Guide](https://packaging.python.org/)\n",
    "- [Les aventuriers du packaging perdu](https://youtu.be/Y5xMQYw9lls)"
   ]
  }
 ],
 "metadata": {
  "celltoolbar": "Slideshow",
  "kernelspec": {
   "display_name": "Python 3",
   "language": "python",
   "name": "python3"
  },
  "language_info": {
   "codemirror_mode": {
    "name": "ipython",
    "version": 3
   },
   "file_extension": ".py",
   "mimetype": "text/x-python",
   "name": "python",
   "nbconvert_exporter": "python",
   "pygments_lexer": "ipython3",
   "version": "3.6.2"
  },
  "livereveal": {
   "autolaunch": true,
   "width": "80%"
  }
 },
 "nbformat": 4,
 "nbformat_minor": 2
}
