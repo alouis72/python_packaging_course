{
 "cells": [
  {
   "cell_type": "markdown",
   "metadata": {
    "slideshow": {
     "slide_type": "slide"
    }
   },
   "source": [
    "# Introduction\n",
    "\n",
    "<center>\n",
    "<span style=\"font-style: italic\">Loic Gouarin</span>\n",
    "</center>\n",
    "<center>\n",
    "<span>du 22 au 24 mai 2019</span>\n",
    "</center>"
   ]
  },
  {
   "cell_type": "markdown",
   "metadata": {
    "collapsed": true,
    "slideshow": {
     "slide_type": "slide"
    }
   },
   "source": [
    "### Cette formation n'est pas\n",
    "\n",
    "- un perfectionnement du langage\n",
    "- une revue des packages utiles dans nos domaines de recherche\n",
    "- un guide des bonnes pratiques"
   ]
  },
  {
   "cell_type": "markdown",
   "metadata": {
    "slideshow": {
     "slide_type": "slide"
    }
   },
   "source": [
    "### But de la formation\n",
    "\n",
    "<center>\n",
    "    <img src=\"./images/but1.png\" style=\"width:70%;text-align:center;\"/>\n",
    "</center>"
   ]
  },
  {
   "cell_type": "markdown",
   "metadata": {
    "slideshow": {
     "slide_type": "slide"
    }
   },
   "source": [
    "### But de la formation\n",
    "\n",
    "<center>\n",
    "<img src=\"./images/but2.png\" style=\"width:70%\"/>\n",
    "</center>"
   ]
  },
  {
   "cell_type": "markdown",
   "metadata": {
    "slideshow": {
     "slide_type": "slide"
    }
   },
   "source": [
    "### But de la formation\n",
    "\n",
    "<center>\n",
    "<img src=\"./images/but3.png\" style=\"width:70%\"/>\n",
    "</center>"
   ]
  },
  {
   "cell_type": "markdown",
   "metadata": {
    "slideshow": {
     "slide_type": "slide"
    }
   },
   "source": [
    "### But de la formation\n",
    "\n",
    "<center>\n",
    "<img src=\"./images/but4.png\" style=\"width:70%\"/>\n",
    "</center>\n"
   ]
  },
  {
   "cell_type": "markdown",
   "metadata": {
    "slideshow": {
     "slide_type": "slide"
    }
   },
   "source": [
    "### But de la formation\n",
    "\n",
    "<center>\n",
    "<img src=\"./images/but5.png\" style=\"width:70%\"/>\n",
    "</center>"
   ]
  },
  {
   "cell_type": "markdown",
   "metadata": {
    "slideshow": {
     "slide_type": "slide"
    }
   },
   "source": [
    "### Plan de la formation\n",
    "\n",
    "- [Interopérabilité](2-interoperabilite.ipynb)\n",
    "- [Packaging](3-packaging.ipynb)\n",
    "- [Linter](4-pylint.ipynb)\n",
    "- [Documentation](5-sphinx.ipynb)\n",
    "- [Tests unitaires](6-pytest.ipynb)\n",
    "- [Déploiement et disponibilité de votre travail](./TPs/5.Le-final.ipynb)"
   ]
  }
 ],
 "metadata": {
  "celltoolbar": "Slideshow",
  "kernelspec": {
   "display_name": "Python 3",
   "language": "python",
   "name": "python3"
  },
  "language_info": {
   "codemirror_mode": {
    "name": "ipython",
    "version": 3
   },
   "file_extension": ".py",
   "mimetype": "text/x-python",
   "name": "python",
   "nbconvert_exporter": "python",
   "pygments_lexer": "ipython3",
   "version": "3.6.7"
  },
  "livereveal": {
   "autolaunch": true,
   "width": "80%"
  }
 },
 "nbformat": 4,
 "nbformat_minor": 2
}
