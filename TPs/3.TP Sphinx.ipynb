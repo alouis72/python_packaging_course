{
 "cells": [
  {
   "cell_type": "markdown",
   "metadata": {
    "slideshow": {
     "slide_type": "slide"
    }
   },
   "source": [
    "# TP Sphinx\n",
    "\n",
    "<center>\n",
    "<span style=\"font-style: italic\">Loic Gouarin</span>\n",
    "</center>\n",
    "<center>\n",
    "<span>du 22 au 24 mai 2019</span>\n",
    "</center>"
   ]
  },
  {
   "cell_type": "markdown",
   "metadata": {
    "slideshow": {
     "slide_type": "slide"
    }
   },
   "source": [
    "Le répertoire `step0` reprend la dernière étape du TP précédent en ayant ajouté des docstrings de type `numpydoc` pour chacune des fonctions."
   ]
  },
  {
   "cell_type": "markdown",
   "metadata": {
    "slideshow": {
     "slide_type": "slide"
    }
   },
   "source": [
    "Créez votre structure Sphinx en exécutant la commande\n",
    "\n",
    "```\n",
    "sphinx-quickstart doc\n",
    "```"
   ]
  },
  {
   "cell_type": "markdown",
   "metadata": {
    "slideshow": {
     "slide_type": "slide"
    }
   },
   "source": [
    "Ajoutez un lien vers `spline.rst` dans le `toctree` du fichier `index.rst`. Compilez et regardez le résultat."
   ]
  },
  {
   "cell_type": "markdown",
   "metadata": {
    "slideshow": {
     "slide_type": "slide"
    }
   },
   "source": [
    "Ajoutez les informations suivantes dans le fichier `index.rst`\n",
    "\n",
    "```\n",
    "splinart is a package used for a tutorial which explains how to do the Python packaging using\n",
    "\n",
    "- PyPi\n",
    "- conda build\n",
    "- pytest\n",
    "- Pylint\n",
    "- Sphinx\n",
    "\n",
    "And automate the process to distribute this package using github.\n",
    "\n",
    "The original idea of splinart comes from the great invonvergent website.\n",
    "\n",
    "If you want to install splinart\n",
    "\n",
    "pip install splpinart\n",
    "or\n",
    "conda install -c gouarin splinart\n",
    "\n",
    "```\n",
    "\n",
    "On fera en sorte de mettre des liens vers les différents sites."
   ]
  },
  {
   "cell_type": "markdown",
   "metadata": {
    "slideshow": {
     "slide_type": "slide"
    }
   },
   "source": [
    "Ajoutez la documentation de l'api en utilisant `sphinx-apidoc` et en ajoutant les extensions `autodoc` et `napoleon`."
   ]
  },
  {
   "cell_type": "markdown",
   "metadata": {
    "slideshow": {
     "slide_type": "slide"
    }
   },
   "source": [
    "Ajoutez un `toctree` avec l'api dans le fichier `index.rst`."
   ]
  },
  {
   "cell_type": "markdown",
   "metadata": {
    "slideshow": {
     "slide_type": "slide"
    }
   },
   "source": [
    "Installez `nbsphinx` et ajouter le notebook `circle.ipynb`."
   ]
  },
  {
   "cell_type": "markdown",
   "metadata": {
    "slideshow": {
     "slide_type": "slide"
    }
   },
   "source": [
    "Installez le thème de `ReadTheDocs` et changez le thème dans le fichier `conf.py`."
   ]
  },
  {
   "cell_type": "markdown",
   "metadata": {
    "slideshow": {
     "slide_type": "slide"
    }
   },
   "source": [
    "Essayez d'ajouter d'autres documentations en essayant de mettre des liens avec celles déjà présentes."
   ]
  }
 ],
 "metadata": {
  "celltoolbar": "Slideshow",
  "kernelspec": {
   "display_name": "Python 3",
   "language": "python",
   "name": "python3"
  },
  "language_info": {
   "codemirror_mode": {
    "name": "ipython",
    "version": 3
   },
   "file_extension": ".py",
   "mimetype": "text/x-python",
   "name": "python",
   "nbconvert_exporter": "python",
   "pygments_lexer": "ipython3",
   "version": "3.6.7"
  },
  "livereveal": {
   "autolaunch": true,
   "scroll": true,
   "width": "80%"
  }
 },
 "nbformat": 4,
 "nbformat_minor": 2
}
