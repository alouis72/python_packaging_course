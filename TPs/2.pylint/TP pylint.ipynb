{
 "cells": [
  {
   "cell_type": "markdown",
   "metadata": {},
   "source": [
    "# TP pylint\n",
    "\n",
    "Le répertoire `step0` reprend la dernière étape du TP précédent.\n",
    "\n",
    "\n",
    "- Testez pylint sur splinart/compute.py.\n",
    "- Créez un fichier .pyrcfile où vous mettrez\n",
    "\n",
    "```\n",
    "disable=\n",
    "enable=all\n",
    "```\n",
    "\n",
    "- Faite en sorte qu'on ait le droit d'utiliser `n, x, y, xs, ys`.\n",
    "- Modifiez le nom des autres variables.\n",
    "- Ajouter des `disables` locaux pour \n",
    "    \n",
    "    - le nombre de paramètres trop grand de update_img\n",
    "    - le i non utilisé\n",
    "    \n",
    "- Ajoutez `extension-pkg-whitelist=numpy` dans le fichier `.pyrcfile`.\n",
    "- Ajoutez la langue `en_US`\n",
    "- Corrigez le reste afin d'avoir 10/10"
   ]
  },
  {
   "cell_type": "code",
   "execution_count": null,
   "metadata": {
    "collapsed": true
   },
   "outputs": [],
   "source": []
  }
 ],
 "metadata": {
  "kernelspec": {
   "display_name": "Python 3",
   "language": "python",
   "name": "python3"
  },
  "language_info": {
   "codemirror_mode": {
    "name": "ipython",
    "version": 3
   },
   "file_extension": ".py",
   "mimetype": "text/x-python",
   "name": "python",
   "nbconvert_exporter": "python",
   "pygments_lexer": "ipython3",
   "version": "3.6.2"
  }
 },
 "nbformat": 4,
 "nbformat_minor": 2
}
