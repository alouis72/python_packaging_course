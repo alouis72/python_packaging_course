{
 "cells": [
  {
   "cell_type": "markdown",
   "metadata": {
    "slideshow": {
     "slide_type": "slide"
    }
   },
   "source": [
    "# TP Pytest\n",
    "\n",
    "<center>\n",
    "<span style=\"font-style: italic\">Loic Gouarin</span>\n",
    "</center>\n",
    "<center>\n",
    "<span>du 22 au 24 mai 2019</span>\n",
    "</center>"
   ]
  },
  {
   "cell_type": "markdown",
   "metadata": {
    "slideshow": {
     "slide_type": "slide"
    }
   },
   "source": [
    "Créez un répertoire `tests`."
   ]
  },
  {
   "cell_type": "markdown",
   "metadata": {
    "slideshow": {
     "slide_type": "slide"
    }
   },
   "source": [
    "Ecrivez deux tests dans `test_shape.py` qui testent si la fonction `circle` fait bien ce qu'il faut. On pourra prendre par exemple si le centre est $[0, 0]$, le rayon $1$\n",
    "\n",
    "- et le nombre de points $2$, alors le `path` est `[[1, 0], [1, 0]]`, \n",
    "- et le nombre de points $5$, alors le `path` est `[[1, 0], [0, 1], [-1, 0], [0, -1], [1, 0]]`."
   ]
  },
  {
   "cell_type": "markdown",
   "metadata": {
    "slideshow": {
     "slide_type": "slide"
    }
   },
   "source": [
    "Réécrivez ces deux tests en un en utilisant une `fixture` ou un `parametrize`."
   ]
  },
  {
   "cell_type": "markdown",
   "metadata": {
    "slideshow": {
     "slide_type": "slide"
    }
   },
   "source": [
    "Testez que la fonction `spline` renvoie bien un vecteur nul si on lui passe une droite.\n",
    "\n",
    "Vous testerez pour différentes droites ayant des caractéristiques différentes."
   ]
  },
  {
   "cell_type": "markdown",
   "metadata": {
    "slideshow": {
     "slide_type": "slide"
    }
   },
   "source": [
    "Testez la fonction `splint` en remarquant que calculer les valeurs d'un échantillon qui a servi pour calculer l'équation de la spline fait que l'on trouve à la fin les mêmes coordonnées."
   ]
  },
  {
   "cell_type": "markdown",
   "metadata": {
    "slideshow": {
     "slide_type": "slide"
    }
   },
   "source": [
    "Utilisez `pytest-cov` pour tester la couverture de votre projet.\n",
    "\n",
    "`pytest --cov nom_du_projet`"
   ]
  },
  {
   "cell_type": "markdown",
   "metadata": {
    "slideshow": {
     "slide_type": "slide"
    }
   },
   "source": [
    "Comment améliorer la couverture ?"
   ]
  },
  {
   "cell_type": "markdown",
   "metadata": {
    "slideshow": {
     "slide_type": "slide"
    }
   },
   "source": [
    "Réaliser un test sur le cercle qui compare le resultat à une figure de référence en utilisant le plugin [pytest-mpl](https://github.com/matplotlib/pytest-mpl)."
   ]
  }
 ],
 "metadata": {
  "celltoolbar": "Slideshow",
  "kernelspec": {
   "display_name": "Python 3",
   "language": "python",
   "name": "python3"
  },
  "language_info": {
   "codemirror_mode": {
    "name": "ipython",
    "version": 3
   },
   "file_extension": ".py",
   "mimetype": "text/x-python",
   "name": "python",
   "nbconvert_exporter": "python",
   "pygments_lexer": "ipython3",
   "version": "3.6.7"
  },
  "livereveal": {
   "autolaunch": true,
   "scroll": true,
   "width": "80%"
  }
 },
 "nbformat": 4,
 "nbformat_minor": 2
}
