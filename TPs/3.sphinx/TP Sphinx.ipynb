{
 "cells": [
  {
   "cell_type": "markdown",
   "metadata": {},
   "source": [
    "# TP Sphinx\n",
    "\n",
    "Le répertoire `step0` reprend la dernière étape du TP précédent en ayant ajouté des docstrings de type `numpydoc` pour chacune des fonctions.\n",
    "\n",
    "- Créez votre structure Sphinx en exécutant la commande\n",
    "\n",
    "```\n",
    "sphinx-quickstart doc\n",
    "```\n",
    "\n",
    "- Ajoutez `spline.rst` dans le `toctree`. Compilez et regardez le résultat.\n",
    "\n",
    "- Ajoutez les informations suivantes dans le fichier `index.rst`\n",
    "\n",
    "```\n",
    "splinart is a package used for a tutorial which explains how to do the Python packaging using\n",
    "\n",
    "- PyPi\n",
    "- conda build\n",
    "- pytest\n",
    "- Pylint\n",
    "- Sphinx\n",
    "\n",
    "And automate the process to distribute this package using github.\n",
    "\n",
    "The original idea of splinart comes from the great invonvergent website.\n",
    "\n",
    "If you want to install splinart\n",
    "\n",
    "pip install splpinart\n",
    "or\n",
    "conda install -c gouarin splinart\n",
    "\n",
    "```\n",
    "\n",
    "On fera en sorte de mettre des liens vers les différents sites.\n",
    "\n",
    "- Ajoutez la documentation de l'api en utilisant `sphinx-apidoc` et en ajoutant les extensions `autodoc` et `napoleon`.\n",
    "\n",
    "- Ajoutez un `toctree` avec l'api dan le fichier `index.rst`.\n",
    "\n",
    "- Installez `nbsphinx` et ajouter le notebook `circle.ipynb`.\n",
    "\n",
    "- Installez le thème de `ReadTheDocs` et changez le thème dans le fichier `conf.py`."
   ]
  },
  {
   "cell_type": "markdown",
   "metadata": {},
   "source": []
  }
 ],
 "metadata": {
  "kernelspec": {
   "display_name": "Python 3",
   "language": "python",
   "name": "python3"
  },
  "language_info": {
   "codemirror_mode": {
    "name": "ipython",
    "version": 3
   },
   "file_extension": ".py",
   "mimetype": "text/x-python",
   "name": "python",
   "nbconvert_exporter": "python",
   "pygments_lexer": "ipython3",
   "version": "3.6.2"
  }
 },
 "nbformat": 4,
 "nbformat_minor": 2
}
