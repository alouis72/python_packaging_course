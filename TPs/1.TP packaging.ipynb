{
 "cells": [
  {
   "cell_type": "markdown",
   "metadata": {
    "slideshow": {
     "slide_type": "slide"
    }
   },
   "source": [
    "# TP packaging\n",
    "\n",
    "<center>\n",
    "<span style=\"font-style: italic\">Loic Gouarin</span>\n",
    "</center>\n",
    "<center>\n",
    "<span>du 1 au 3 octobre 2018</span>\n",
    "</center>"
   ]
  },
  {
   "cell_type": "markdown",
   "metadata": {
    "slideshow": {
     "slide_type": "slide"
    }
   },
   "source": [
    "Vous allez dans ce TP reprendre ce que vous avez vu en cours. Le but est de structurer son package, d'écrire un `setup.py` puis de diffuser le code via `PyPi` et `conda`."
   ]
  },
  {
   "cell_type": "markdown",
   "metadata": {
    "slideshow": {
     "slide_type": "slide"
    }
   },
   "source": [
    "## Etape 1"
   ]
  },
  {
   "cell_type": "markdown",
   "metadata": {
    "slideshow": {
     "slide_type": "subslide"
    }
   },
   "source": [
    "Dans le répertoire `step0`, vous avez un ensemble de fichiers. Restructurez ce répertoire afin d'avoir cette arborescence "
   ]
  },
  {
   "cell_type": "code",
   "execution_count": 5,
   "metadata": {},
   "outputs": [
    {
     "name": "stdout",
     "output_type": "stream",
     "text": [
      "\u001b[01;34mstep1/\u001b[00m\r\n",
      "├── \u001b[01;34mdemos\u001b[00m\r\n",
      "│   ├── circle.py\r\n",
      "│   ├── circles.py\r\n",
      "│   ├── line.py\r\n",
      "│   └── lines.py\r\n",
      "├── \u001b[01;34mscripts\u001b[00m\r\n",
      "│   ├── cli_splinart.py\r\n",
      "│   └── __init__.py\r\n",
      "├── setup.py\r\n",
      "└── \u001b[01;34msplinart\u001b[00m\r\n",
      "    ├── compute.py\r\n",
      "    ├── draw.py\r\n",
      "    ├── __init__.py\r\n",
      "    ├── \u001b[01;34mshapes\u001b[00m\r\n",
      "    │   ├── base.py\r\n",
      "    │   └── __init__.py\r\n",
      "    └── \u001b[01;34mspline\u001b[00m\r\n",
      "        ├── __init__.py\r\n",
      "        ├── spline.py\r\n",
      "        └── splint.py\r\n",
      "\r\n",
      "5 directories, 15 files\r\n"
     ]
    }
   ],
   "source": [
    "! tree step1/"
   ]
  },
  {
   "cell_type": "markdown",
   "metadata": {
    "slideshow": {
     "slide_type": "subslide"
    }
   },
   "source": [
    "Ecrivez le `setup.py` afin de pouvoir installer `splinart`."
   ]
  },
  {
   "cell_type": "markdown",
   "metadata": {
    "slideshow": {
     "slide_type": "subslide"
    }
   },
   "source": [
    "Ecrivez les `__init__.py` afin que les fichiers dans le répertoire `demos` fonctionnent correctement."
   ]
  },
  {
   "cell_type": "markdown",
   "metadata": {
    "slideshow": {
     "slide_type": "slide"
    }
   },
   "source": [
    "## Etape 2"
   ]
  },
  {
   "cell_type": "markdown",
   "metadata": {
    "slideshow": {
     "slide_type": "subslide"
    }
   },
   "source": [
    "Ajoutez un `entry_points` dans le fichier `setup.py` pour avoir un exécutable `splinart` à partir de la fonction `main` se trouvant dans le fichier `cli_splinart.py`."
   ]
  },
  {
   "cell_type": "markdown",
   "metadata": {
    "slideshow": {
     "slide_type": "subslide"
    }
   },
   "source": [
    "Ajoutez ce qu'il faut dans les fichiers Python pour être compatible 2 et 3."
   ]
  },
  {
   "cell_type": "markdown",
   "metadata": {
    "slideshow": {
     "slide_type": "slide"
    }
   },
   "source": [
    "## Etape 3"
   ]
  },
  {
   "cell_type": "markdown",
   "metadata": {
    "slideshow": {
     "slide_type": "subslide"
    }
   },
   "source": [
    "Ajoutez une version dans le fichier `setup.py`. "
   ]
  },
  {
   "cell_type": "markdown",
   "metadata": {
    "slideshow": {
     "slide_type": "subslide"
    }
   },
   "source": [
    "faite en sorte que lorsqu'on installe `splinart`, un fichier `version.py` soit créé dans le répertoire `splinart` avec à l'intérieur\n",
    "\n",
    "```\n",
    "__version__ = '0.1.0'\n",
    "```"
   ]
  },
  {
   "cell_type": "markdown",
   "metadata": {
    "slideshow": {
     "slide_type": "slide"
    }
   },
   "source": [
    "## Etape 4"
   ]
  },
  {
   "cell_type": "markdown",
   "metadata": {
    "slideshow": {
     "slide_type": "subslide"
    }
   },
   "source": [
    "Ajoutez le fichier `LICENSE` ayant le contenu suivant\n",
    "\n",
    "https://fr.wikipedia.org/wiki/Licence_BSD\n",
    "\n",
    " au même niveau que le `setup.py`."
   ]
  },
  {
   "cell_type": "markdown",
   "metadata": {
    "slideshow": {
     "slide_type": "subslide"
    }
   },
   "source": [
    "Ajoutez dans chacun des fichiers Python l'entête suivante\n",
    "\n",
    "```\n",
    "# Author:\n",
    "#     votre nom <votre email>\n",
    "#\n",
    "# License: BSD 3 clause\n",
    "```"
   ]
  },
  {
   "cell_type": "markdown",
   "metadata": {
    "slideshow": {
     "slide_type": "subslide"
    }
   },
   "source": [
    "Ajoutez les classifiers suivants dans votre `setup.py`\n",
    "\n",
    "```\n",
    "\"Development Status :: 3 - Alpha\",\n",
    "\"Intended Audience :: Science/Research\",\n",
    "\"Intended Audience :: Developers\",\n",
    "\"License :: OSI Approved :: BSD License\",\n",
    "\"Programming Language :: Python\",\n",
    "\"Programming Language :: Python :: 2\",\n",
    "\"Programming Language :: Python :: 2.7\",\n",
    "\"Programming Language :: Python :: 3\",\n",
    "\"Programming Language :: Python :: 3.4\",\n",
    "\"Programming Language :: Python :: 3.5\",\n",
    "\"Topic :: Software Development\",\n",
    "\"Topic :: Scientific/Engineering\",\n",
    "\"Operating System :: Microsoft :: Windows\",\n",
    "\"Operating System :: POSIX\",\n",
    "\"Operating System :: Unix\",\n",
    "\"Operating System :: MacOS\"\n",
    "```"
   ]
  },
  {
   "cell_type": "markdown",
   "metadata": {
    "slideshow": {
     "slide_type": "subslide"
    }
   },
   "source": [
    "Ajoutez dans la fonction `setup.py`\n",
    "\n",
    "    - l'auteur,\n",
    "    - la description,\n",
    "    - la licence,\n",
    "    - la version,\n",
    "    - les classifiers,\n",
    "    - les dépendances (numpy, matplotlib, six)."
   ]
  },
  {
   "cell_type": "markdown",
   "metadata": {
    "slideshow": {
     "slide_type": "slide"
    }
   },
   "source": [
    "## Etape 5"
   ]
  },
  {
   "cell_type": "markdown",
   "metadata": {
    "slideshow": {
     "slide_type": "subslide"
    }
   },
   "source": [
    "Votre package est maintenant prêt à être diffusé. "
   ]
  },
  {
   "cell_type": "markdown",
   "metadata": {
    "slideshow": {
     "slide_type": "subslide"
    }
   },
   "source": [
    "Créez vous un compte sur https://testpypi.python.org/pypi?%3Aaction=register_form"
   ]
  },
  {
   "cell_type": "markdown",
   "metadata": {
    "slideshow": {
     "slide_type": "subslide"
    }
   },
   "source": [
    "Créez les distributions pour `PyPi` en exécutant les commandes suivantes\n",
    "\n",
    "```\n",
    "python setup.py sdist\n",
    "python setup.py bdist_wheel\n",
    "```"
   ]
  },
  {
   "cell_type": "markdown",
   "metadata": {
    "slideshow": {
     "slide_type": "subslide"
    }
   },
   "source": [
    "Puis utilisez `twine` pour déposer votre projet\n",
    "\n",
    "```\n",
    "twine upload --repository-url https://test.pypi.org/legacy/ dist/*\n",
    "```"
   ]
  },
  {
   "cell_type": "markdown",
   "metadata": {
    "slideshow": {
     "slide_type": "subslide"
    }
   },
   "source": [
    "Testez celui-ci sur un environnement Python 2.7 et 3 en utilisant conda. On rappelle que pour créer un environnement on peut faire\n",
    "\n",
    "```\n",
    "conda create -n test2.7 python=2.7\n",
    "```"
   ]
  },
  {
   "cell_type": "markdown",
   "metadata": {
    "slideshow": {
     "slide_type": "subslide"
    }
   },
   "source": [
    "Essayer d'installer `splinart` à l'aide de la commande\n",
    "\n",
    "```\n",
    "pip install --extra-index-url https://testpypi.python.org/pypi splinart\n",
    "```"
   ]
  },
  {
   "cell_type": "markdown",
   "metadata": {
    "slideshow": {
     "slide_type": "subslide"
    }
   },
   "source": [
    "Nous allons à présent le mettre sur conda. Il faut tout d'abord créer la recette en exécutant la commande\n",
    "\n",
    "```\n",
    "conda skeleton pypi recipes\n",
    "```"
   ]
  },
  {
   "cell_type": "markdown",
   "metadata": {
    "slideshow": {
     "slide_type": "subslide"
    }
   },
   "source": [
    "Modifiez le fichier `meta.yaml` en conséquence.\n",
    "\n",
    "**Remarque:** on peut récupérer la version à partir du `setup.py` de la façon suivante\n",
    "\n",
    "```\n",
    "{% set data = load_setup_py_data() %}\n",
    "\n",
    "package:\n",
    "  name: splinart\n",
    "  version: {{ data.get('version') }}\n",
    "\n",
    "source:\n",
    "  path: ../\n",
    "```"
   ]
  },
  {
   "cell_type": "markdown",
   "metadata": {
    "slideshow": {
     "slide_type": "subslide"
    }
   },
   "source": [
    "Construisez votre package conda\n",
    "\n",
    "```\n",
    "conda build recipes\n",
    "```"
   ]
  },
  {
   "cell_type": "markdown",
   "metadata": {
    "slideshow": {
     "slide_type": "subslide"
    }
   },
   "source": [
    "Testez localement\n",
    "\n",
    "```\n",
    "conda install --use-local splinart\n",
    "```"
   ]
  },
  {
   "cell_type": "markdown",
   "metadata": {
    "slideshow": {
     "slide_type": "subslide"
    }
   },
   "source": [
    "- Si ça fonctionne, créez vous un compte sur conda https://anaconda.org/\n",
    "\n",
    "- Puis diffusez votre package via la commande\n",
    "\n",
    "```\n",
    "anaconda upload /home/loic/miniconda3/conda-bld/linux-64/splinart...\n",
    "```"
   ]
  }
 ],
 "metadata": {
  "celltoolbar": "Slideshow",
  "kernelspec": {
   "display_name": "Python 3",
   "language": "python",
   "name": "python3"
  },
  "language_info": {
   "codemirror_mode": {
    "name": "ipython",
    "version": 3
   },
   "file_extension": ".py",
   "mimetype": "text/x-python",
   "name": "python",
   "nbconvert_exporter": "python",
   "pygments_lexer": "ipython3",
   "version": "3.6.6"
  },
  "livereveal": {
   "autolaunch": true,
   "scroll": true,
   "width": "80%"
  }
 },
 "nbformat": 4,
 "nbformat_minor": 2
}
