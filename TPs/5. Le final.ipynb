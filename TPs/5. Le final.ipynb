{
 "cells": [
  {
   "cell_type": "markdown",
   "metadata": {},
   "source": [
    "Nous allons à présent automatiser tout ce que l'on a vu au cours de cette formation en se servant de github.\n",
    "\n",
    "# Github\n",
    "\n",
    "Si vous n'avez pas encore de compte sur github, créez en un [ici](https://github.com/join?source=header). Vous devez ensuite créer un nouveau projet que vous pouvez par exemple nommer `splinart`.\n",
    "\n",
    "L'idée étant de mettre dans ce dépôt le `final_step` de la partie sur `pytest`, copiez ce répertoire dans un répertoire à part. Lorsque vous créez un dépôt sur github, celui-ci vous donne plusieurs recettes pour l'initialiser. Nous choisirons la première. \n",
    "\n",
    "Mais avant cela, nous allons ajouter un fichier `readme.rst` et un `.gitignore`.\n",
    "\n",
    "## readme.rst\n",
    "\n",
    "```rst\n",
    "splinart is a package used for a tutorial which explains how to do the Python packaging using\n",
    "\n",
    "- `PyPi <https://pypi.python.org/pypi>`_\n",
    "- `conda build <https://conda.io/docs/user-guide/tasks/build-packages/recipe.html>`_\n",
    "- `pytest <https://docs.pytest.org/en/latest/>`_\n",
    "- `Pylint <https://www.pylint.org/>`_\n",
    "- `Sphinx <http://www.sphinx-doc.org/en/stable/>`_\n",
    "\n",
    "And automate the process to distribute this package using github.\n",
    "\n",
    "The original idea of splinart is found on the great invonvergent website.\n",
    "\n",
    "If you want to install splinart::\n",
    "\n",
    "    pip install splpinart\n",
    "\n",
    "or::\n",
    "\n",
    "    conda install -c gouarin splinart\n",
    "```\n",
    "\n",
    "## .gitignore\n",
    "\n",
    "```\n",
    "build\n",
    "_build\n",
    ".cache\n",
    "dist\n",
    ".ipynb_checkpoints\n",
    "__pycache__\n",
    "```\n",
    "\n",
    "Vous pouvez à présent initialiser votre projet en utilisant la commande suivante\n",
    "\n",
    "    git init\n",
    "    \n",
    "Nous allons dans un premier temps ajouter les deux fichiers que nous avons créés précédemment.\n",
    "\n",
    "    git add readme.rst .gitignore\n",
    "    git commit -m \"initial commit\"\n",
    "   \n",
    "Puis tous les autres fichiers en faisant\n",
    "\n",
    "    git add splinart doc demos ...\n",
    "\n",
    "Vérifiez avant de faire le commit que tous les fichiers sont les bons et qu'il n'en manque pas.\n",
    "\n",
    "    git commit -m \"add splinart\"\n",
    "\n",
    "Initialisez le remote en suivant ce qui est écrit sur votre github. J'avais pour cette exemple\n",
    "\n",
    "    git remote add origin https://github.com/gouarin/splinart.git\n",
    "    \n",
    "Vous pouvez maintenant faire un push de vos trois commits en faisant\n",
    "\n",
    "    git push --set-upstream origin master\n",
    "\n",
    "Vous pouvez à présent vérifier que tous vos fichiers sont présents sur votre github.\n",
    "\n",
    "Maintenant, nous allons nous intéresser (dans l'ordre) aux étapes suivantes\n",
    "\n",
    "- Mise en place de travis pour l'intégration continue.\n",
    "- Validation des push en utilisant pytest et pylint.\n",
    "- Génération de la documentation sur ReadTheDocs.\n",
    "- Déploiement de `splinart` sur PyPi et conda.\n",
    "    \n",
    "# Travis\n",
    "\n",
    "[Travis CI](https://travis-ci.org/) vous permet de faire de l'intégration continue sur votre projet et de l'utiliser comme un plugin de github dans un evironnement linux ou mac os. La première chose à faire est de se connecter à travis en utilisant son compte github.\n",
    "\n",
    "Puis d'aller sur son compte en haut à droite de la fenêtre. Vous verrez alors vos projets github. Il vous suffit à présent d'activer celui appelé `splinart`.\n",
    "\n",
    "Travis fonctionne en lisant un fichier `.travis.yml` décrivant les logiciels nécessaires pour installer notre package et la façon de le tester. Cette étape nous permet de valider une mise à jour du dépôt réalisée sous forme d'un pull request ou d'un merge request. De cette manière, nous sommes plus confiant dans les changements.\n",
    "\n",
    "Nous allons commencer par ajouter un fichier `.travis.yml` très simple afin de comprendre un peu mieux comment ça se passe.\n",
    "\n"
   ]
  },
  {
   "cell_type": "code",
   "execution_count": null,
   "metadata": {
    "collapsed": true
   },
   "outputs": [],
   "source": [
    "%%file .travis.yml\n",
    "\n",
    "language: python\n",
    "\n",
    "install:\n",
    "  - sudo apt-get update\n",
    "  - wget https://repo.continuum.io/miniconda/Miniconda3-latest-Linux-x86_64.sh -O miniconda.sh\n",
    "  - bash miniconda.sh -b -p $HOME/miniconda\n",
    "  - export PATH=\"$HOME/miniconda/bin:$PATH\"\n",
    "  - hash -r\n",
    "  - conda config --set always_yes yes --set changeps1 no\n",
    "  - conda update -q conda\n",
    "  # Useful for debugging any issues with conda\n",
    "  - conda info -a\n",
    "\n",
    "  - conda create -q -n splinart-env python=$TRAVIS_PYTHON_VERSION\n",
    "  - source activate splinart-env\n",
    "  - conda install numpy matplotlib six pytest\n",
    "  - python setup.py install\n",
    "\n",
    "script:\n",
    "  # Your test script goes here\n",
    "  - pytest tests"
   ]
  },
  {
   "cell_type": "markdown",
   "metadata": {},
   "source": [
    "Nous voyons trois parties dans ce fichier\n",
    "\n",
    "- `language` indique le langage que nous allons utiliser et sa version. Mais vu que nous allons installer un miniconda, celui-ci ne sert pas vraiment sauf pour le flag `$TRAVIS_PYTHON_VERSION`. Travis a un ensemble de flags qui nous facilite les choses (https://docs.travis-ci.com/user/reference/overview/).\n",
    "- `install` est la section qui dit ce qu'il faut faire pour installer notre package. Vous pouvez voir que ce sont des commandes unix et qu'elles correspondent exactement à ce que vous pourriez faire vous même sur votre système.\n",
    "- `script` indique ce que l'on fait une fois que l'on a fini d'installer. Nous ferons pour le moment les tests. Si les tests échouent, travis nous dira que la tentative de construction de notre projet a échoué.\n",
    "\n",
    "Ajoutez et poussez ce fichier sur votre dépôt github. Vous devriez voir tavis réagir et réussir à construire le projet.\n",
    "\n",
    "Dans ce que nous avons fait, nous voyons que nous avons installé en dur dans le fichier numpy, matplotlib et six. Il se peut que nous ayons d'autres dépendances à l'avenir et nous voudrions que ce soit un peu plus explicite nous allons donc créer un fichier `requirements.txt` qui indique ces dépendances."
   ]
  },
  {
   "cell_type": "code",
   "execution_count": 1,
   "metadata": {},
   "outputs": [
    {
     "name": "stdout",
     "output_type": "stream",
     "text": [
      "Writing requirements.txt\n"
     ]
    }
   ],
   "source": [
    "%%file requirements.txt\n",
    "numpy\n",
    "matplotlib\n",
    "six\n",
    "pytest"
   ]
  },
  {
   "cell_type": "markdown",
   "metadata": {},
   "source": [
    "Le fichier `.travis.yml` devient"
   ]
  },
  {
   "cell_type": "code",
   "execution_count": 2,
   "metadata": {},
   "outputs": [
    {
     "name": "stdout",
     "output_type": "stream",
     "text": [
      "Writing .travis.yml\n"
     ]
    }
   ],
   "source": [
    "%%file .travis.yml\n",
    "\n",
    "language: python\n",
    "\n",
    "install:\n",
    "  - sudo apt-get update\n",
    "  - wget https://repo.continuum.io/miniconda/Miniconda3-latest-Linux-x86_64.sh -O miniconda.sh\n",
    "  - bash miniconda.sh -b -p $HOME/miniconda\n",
    "  - export PATH=\"$HOME/miniconda/bin:$PATH\"\n",
    "  - hash -r\n",
    "  - conda config --set always_yes yes --set changeps1 no\n",
    "  - conda update -q conda\n",
    "  # Useful for debugging any issues with conda\n",
    "  - conda info -a\n",
    "\n",
    "  - conda create -q -n splinart-env python=$TRAVIS_PYTHON_VERSION\n",
    "  - source activate splinart-env\n",
    "  - travis_wait pip install -r requirements.txt\n",
    "  - python setup.py install\n",
    "\n",
    "script:\n",
    "  # Your test script goes here\n",
    "  - pytest tests"
   ]
  },
  {
   "cell_type": "markdown",
   "metadata": {},
   "source": [
    "`tarvis_wait` indique à travis d'attendre si la procédure est un peu longue. \n",
    "\n",
    "Mettez à jour votre dépôt en ajoutant `requirements.txt` et `.travis.yml`. Vérifiez que la construction du projet se passe bien."
   ]
  },
  {
   "cell_type": "markdown",
   "metadata": {},
   "source": [
    "Nous allons à présent ajouter `pylint` et le test de couverture du projet. Pour cela, nous allons ajouter dans `requirements.txt` les packages suivants"
   ]
  },
  {
   "cell_type": "code",
   "execution_count": null,
   "metadata": {
    "collapsed": true
   },
   "outputs": [],
   "source": [
    "pylint\n",
    "pytest-pylint\n",
    "pytest-cov\n",
    "codecov"
   ]
  },
  {
   "cell_type": "markdown",
   "metadata": {},
   "source": [
    "Puis modifier le fichier `.travis.yml` en conséquence en modifiant juste au niveau de la section `script`"
   ]
  },
  {
   "cell_type": "code",
   "execution_count": null,
   "metadata": {
    "collapsed": true
   },
   "outputs": [],
   "source": [
    "script:\n",
    "  - pytest --pylint --pylint-rcfile=.pyrcfile --pylint-error-types=EF splinart\n",
    "  - pytest --cov=splinart tests\n",
    "\n",
    "after_success:\n",
    "  - codecov -e $PYVER"
   ]
  },
  {
   "cell_type": "markdown",
   "metadata": {},
   "source": [
    "Nous avons à présent un script qui fonctionne bien pour une certaine version de Python. Nous aimerions maintenant tester notre package pour différentes version de Python sur linux et mac os. Travis permet de créer des `matrix` indiquant un certain nombre de builds différents sans écrire tous les scripts correspondant à la main.\n",
    "\n",
    "Nous allons donc lui demander de tester notre projet pour différentes versions de Python sur linux et mac os."
   ]
  },
  {
   "cell_type": "code",
   "execution_count": 3,
   "metadata": {},
   "outputs": [
    {
     "name": "stdout",
     "output_type": "stream",
     "text": [
      "Overwriting .travis.yml\n"
     ]
    }
   ],
   "source": [
    "%%file .travis.yml\n",
    "\n",
    "language: python\n",
    "env:\n",
    "  - PYVER=\"2.7\"\n",
    "  - PYVER=\"3.4\"\n",
    "  - PYVER=\"3.5\"\n",
    "  - PYVER=\"3.6\"\n",
    "os:\n",
    "  - linux\n",
    "  - osx\n",
    "\n",
    "before_install:\n",
    "  - |\n",
    "    if [[ \"$TRAVIS_OS_NAME\" == \"osx\" ]]; then \n",
    "      wget https://repo.continuum.io/miniconda/Miniconda3-latest-MacOSX-x86_64.sh -O miniconda.sh;\n",
    "      mkdir .matplotlib;\n",
    "      echo \"backend : TkAgg\" >> .matplotlib/matplotlibrc\n",
    "    fi\n",
    "  - |\n",
    "    if [[ \"$TRAVIS_OS_NAME\" == \"linux\" ]]; then \n",
    "      sudo apt-get update;\n",
    "      wget https://repo.continuum.io/miniconda/Miniconda3-latest-Linux-x86_64.sh -O miniconda.sh;\n",
    "    fi\n",
    "install:\n",
    "  - bash miniconda.sh -b -p $HOME/miniconda\n",
    "  - export PATH=\"$HOME/miniconda/bin:$PATH\"\n",
    "  - hash -r\n",
    "  - conda config --set always_yes yes --set changeps1 no\n",
    "  - conda update -q conda\n",
    "  # Useful for debugging any issues with conda\n",
    "  - conda info -a\n",
    "  - conda create -q -n splinart-env python=$PYVER\n",
    "  - source activate splinart-env\n",
    "  - travis_wait pip install -r requirements.txt\n",
    "  - if [[ \"$TRAVIS_OS_NAME\" == \"osx\" ]]; then conda install python.app; fi;\n",
    "  - python setup.py install\n",
    "\n",
    "script:\n",
    "  - pytest --pylint --pylint-rcfile=.pyrcfile --pylint-error-types=EF splinart\n",
    "  - pytest --cov=splinart tests\n",
    "\n",
    "after_success:\n",
    "  - codecov -e $PYVER"
   ]
  },
  {
   "cell_type": "markdown",
   "metadata": {},
   "source": [
    "La variable d'environnement `TRAVIS_OS_NAME` permet de savoir si nous sommes sur linux ou sur mac osx. Nous installons donc différemment miniconda en fonction du système d'exploitation. Il y a un problème de backend avec mac osx, c'est pourquoi nous ajoutons un fichier `matplotlibrc`.\n",
    "\n",
    "Nous avons donc pu tester notre projet sur\n",
    "\n",
    "| linux |  macosx |\n",
    "|:-----:|:-------:|\n",
    "| python 2.7 | python 2.7|\n",
    "| python 3.4 | python 3.4|\n",
    "| python 3.5 | python 3.5|\n",
    "| python 3.6 | python 3.6|"
   ]
  },
  {
   "cell_type": "markdown",
   "metadata": {},
   "source": [
    "## ReadTheDocs\n",
    "\n",
    "Nous allons à présent nous intéresser à générer la documentation automatiquement sur ReadTheDocs. Pour cela, nous allons ajouter un fichier `environment.yml` dans le répertoire `doc` indiquant tout ce dont nous avons besoin pour sphinx et ses dépendances. Et un fichier `.readthedocs.yml` à la racine du projet indiquant comment installer notre projet.\n",
    "\n",
    "Voici à quoi ressemblent ces deux fichiers"
   ]
  },
  {
   "cell_type": "code",
   "execution_count": 4,
   "metadata": {},
   "outputs": [
    {
     "name": "stdout",
     "output_type": "stream",
     "text": [
      "Writing environment.yml\n"
     ]
    }
   ],
   "source": [
    "%%file environment.yml\n",
    "name: splinart\n",
    "dependencies:\n",
    "  - notebook\n",
    "  - sphinx\n",
    "  - nbsphinx"
   ]
  },
  {
   "cell_type": "code",
   "execution_count": 5,
   "metadata": {},
   "outputs": [
    {
     "name": "stdout",
     "output_type": "stream",
     "text": [
      "Writing .readthedocs.yml\n"
     ]
    }
   ],
   "source": [
    "%%file .readthedocs.yml\n",
    "conda:\n",
    "   file: doc/environment.yml\n",
    "requirements_file: requirements.txt\n",
    "python:\n",
    "   setup_py_install: true"
   ]
  },
  {
   "cell_type": "markdown",
   "metadata": {},
   "source": [
    "Vous devez à présent vous créer un compte sur https://readthedocs.org/ et connecter votre projet github à celui-ci. De cette manière, à chaque fois que vous ferez une mise à jour du dépôt, la documentation sera regénérée."
   ]
  },
  {
   "cell_type": "code",
   "execution_count": null,
   "metadata": {
    "collapsed": true
   },
   "outputs": [],
   "source": [
    "travis encrypt --add"
   ]
  },
  {
   "cell_type": "markdown",
   "metadata": {},
   "source": [
    "Ajouter les token pour PyPi et anaconda \n",
    "gem install travis"
   ]
  },
  {
   "cell_type": "markdown",
   "metadata": {},
   "source": [
    "mettre PYPI_PASSWD=son_mot_de_passe"
   ]
  }
 ],
 "metadata": {
  "kernelspec": {
   "display_name": "Python 3",
   "language": "python",
   "name": "python3"
  },
  "language_info": {
   "codemirror_mode": {
    "name": "ipython",
    "version": 3
   },
   "file_extension": ".py",
   "mimetype": "text/x-python",
   "name": "python",
   "nbconvert_exporter": "python",
   "pygments_lexer": "ipython3",
   "version": "3.6.2"
  }
 },
 "nbformat": 4,
 "nbformat_minor": 2
}
