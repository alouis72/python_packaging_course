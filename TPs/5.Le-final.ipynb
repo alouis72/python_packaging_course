{
 "cells": [
  {
   "cell_type": "markdown",
   "metadata": {},
   "source": [
    "# TP Pytest\n",
    "\n",
    "<center>\n",
    "<span style=\"font-style: italic\">Loic Gouarin</span>\n",
    "</center>\n",
    "<center>\n",
    "<span>du 1 au 3 octobre 2018</span>\n",
    "</center>\n",
    "\n",
    "Vous avez à présent une connaissance des outils qui peuvent vous être utiles pour écrire des codes Python de qualité et les packager. Si vous deviez exécuter ces outils à la main à chaque fois que vous faites un changement, vous abandonneriez vite tellement la tâche vous paraîtrait fastidieuse. \n",
    "\n",
    "Dans ce dernier TP, nous allons donc regarder comment automatiser toutes ces tâches en se servant de github. Par conséquent, la première chose à faire est de mettre le code sur github.\n",
    "\n",
    "# Github\n",
    "\n",
    "Si vous n'avez pas encore de compte sur github, créez en un [ici](https://github.com/join?source=header). Vous devez ensuite créer un nouveau projet que vous pouvez par exemple nommer `splinart`.\n",
    "\n",
    "L'idée étant de mettre dans ce dépôt le `final_step` de la partie sur `pytest`, copiez ce répertoire dans un répertoire à part. Lorsque vous créez un dépôt sur github, celui-ci vous donne plusieurs recettes pour l'initialiser. Nous choisirons la première. \n",
    "\n",
    "Mais avant cela, nous allons ajouter un fichier `readme.rst` et un `.gitignore`.\n",
    "\n",
    "## readme.rst\n",
    "\n",
    "```rst\n",
    "splinart is a package used for a tutorial which explains how to do the Python packaging using\n",
    "\n",
    "- `PyPi <https://pypi.python.org/pypi>`_\n",
    "- `conda build <https://conda.io/docs/user-guide/tasks/build-packages/recipe.html>`_\n",
    "- `pytest <https://docs.pytest.org/en/latest/>`_\n",
    "- `Pylint <https://www.pylint.org/>`_\n",
    "- `Sphinx <http://www.sphinx-doc.org/en/stable/>`_\n",
    "\n",
    "And automate the process to distribute this package using github.\n",
    "\n",
    "The original idea of splinart is found on the great invonvergent website.\n",
    "\n",
    "If you want to install splinart::\n",
    "\n",
    "    pip install splpinart\n",
    "\n",
    "or::\n",
    "\n",
    "    conda install -c gouarin splinart\n",
    "```\n",
    "\n",
    "## .gitignore\n",
    "\n",
    "```\n",
    "build\n",
    "_build\n",
    ".cache\n",
    "dist\n",
    ".ipynb_checkpoints\n",
    "__pycache__\n",
    "```\n",
    "\n",
    "Vous pouvez à présent initialiser votre projet en utilisant la commande suivante\n",
    "\n",
    "    git init\n",
    "    \n",
    "Nous allons dans un premier temps ajouter les deux fichiers que nous avons créés précédemment.\n",
    "\n",
    "    git add readme.rst .gitignore\n",
    "    git commit -m \"initial commit\"\n",
    "   \n",
    "Puis tous les autres fichiers en faisant\n",
    "\n",
    "    git add splinart doc demos ...\n",
    "\n",
    "Vérifiez avant de faire le commit que tous les fichiers sont les bons et qu'il n'en manque pas.\n",
    "\n",
    "    git commit -m \"add splinart\"\n",
    "\n",
    "Initialisez le `remote` en suivant ce qui est écrit sur votre github. J'avais pour cette exemple\n",
    "\n",
    "    git remote add origin https://github.com/gouarin/splinart.git\n",
    "    \n",
    "Vous pouvez maintenant faire un push de vos trois commits en faisant\n",
    "\n",
    "    git push --set-upstream origin master\n",
    "\n",
    "Vous pouvez à présent vérifier que tous vos fichiers sont présents sur votre github.\n",
    "\n",
    "Maintenant que notre dépôt a bien été créé, nous allons nous intéresser (dans l'ordre) aux étapes suivantes\n",
    "\n",
    "- Mise en place de travis pour l'intégration continue.\n",
    "- Validation des push en utilisant pytest et pylint.\n",
    "- Génération de la documentation sur ReadTheDocs.\n",
    "- Déploiement de `splinart` sur PyPi et conda.\n",
    "    \n",
    "# Travis\n",
    "\n",
    "[Travis CI](https://travis-ci.org/) vous permet de faire de l'intégration continue sur votre projet et de l'utiliser comme un plugin de github dans un evironnement linux ou mac os. L'idée étant de tester son projet sur différents OS et différentes versions de Python afin de s'assurer du bon comportement de celui-ci. La première chose à faire est de se connecter à travis en utilisant son compte github.\n",
    "\n",
    "Puis d'aller sur son compte en haut à droite de la fenêtre. Vous verrez alors vos projets github. Il vous suffit à présent d'activer celui appelé `splinart` (si vous l'avez appelé comme ça).\n",
    "\n",
    "Travis fonctionne en lisant un fichier `.travis.yml` décrivant les logiciels nécessaires pour installer notre package et la façon de le tester. Cette étape nous permet de valider une mise à jour du dépôt réalisée sous forme d'un pull request ou d'un merge request. De cette manière, nous sommes plus confiant dans les changements.\n",
    "\n",
    "Nous allons commencer par ajouter un fichier `.travis.yml` très simple afin de comprendre un peu mieux comment ça se passe."
   ]
  },
  {
   "cell_type": "code",
   "execution_count": null,
   "metadata": {
    "collapsed": true
   },
   "outputs": [],
   "source": [
    "%%file .travis.yml\n",
    "\n",
    "language: python\n",
    "\n",
    "install:\n",
    "  - sudo apt-get update\n",
    "  - wget https://repo.continuum.io/miniconda/Miniconda3-latest-Linux-x86_64.sh -O miniconda.sh\n",
    "  - bash miniconda.sh -b -p $HOME/miniconda\n",
    "  - export PATH=\"$HOME/miniconda/bin:$PATH\"\n",
    "  - hash -r\n",
    "  - conda config --set always_yes yes --set changeps1 no\n",
    "  - conda update -q conda\n",
    "  # Useful for debugging any issues with conda\n",
    "  - conda info -a\n",
    "\n",
    "  - conda create -q -n splinart-env python=$TRAVIS_PYTHON_VERSION\n",
    "  - source activate splinart-env\n",
    "  - conda install numpy matplotlib six pytest\n",
    "  - python setup.py install\n",
    "\n",
    "script:\n",
    "  # Your test script goes here\n",
    "  - pytest tests"
   ]
  },
  {
   "cell_type": "markdown",
   "metadata": {},
   "source": [
    "Nous voyons trois parties dans ce fichier\n",
    "\n",
    "- `language` indique le langage que nous allons utiliser et sa version. Mais vu que nous allons installer un miniconda, celui-ci ne sert pas vraiment sauf pour le flag `$TRAVIS_PYTHON_VERSION`. Travis a un ensemble de flags qui nous facilite les choses (https://docs.travis-ci.com/user/reference/overview/).\n",
    "- `install` est la section qui dit ce qu'il faut faire pour installer notre package. Vous pouvez voir que ce sont des commandes unix et qu'elles correspondent exactement à ce que vous pourriez faire vous même sur votre système.\n",
    "- `script` indique ce que l'on fait une fois que l'on a fini d'installer. Nous ferons pour le moment les tests. Si les tests échouent, travis nous dira que la tentative de construction de notre projet a échoué.\n",
    "\n",
    "Ajoutez et poussez ce fichier sur votre dépôt github. Vous devriez voir tavis réagir et réussir à construire le projet.\n",
    "\n",
    "Dans ce que nous avons fait, nous voyons que nous avons installé en dur dans le fichier numpy, matplotlib et six. Il se peut que nous ayons d'autres dépendances à l'avenir et nous voudrions que ce soit un peu plus explicite. Nous allons donc créer un fichier `requirements.txt` qui indique ces dépendances."
   ]
  },
  {
   "cell_type": "code",
   "execution_count": 1,
   "metadata": {},
   "outputs": [
    {
     "name": "stdout",
     "output_type": "stream",
     "text": [
      "Writing requirements.txt\n"
     ]
    }
   ],
   "source": [
    "%%file requirements.txt\n",
    "numpy\n",
    "matplotlib\n",
    "six\n",
    "pytest"
   ]
  },
  {
   "cell_type": "markdown",
   "metadata": {},
   "source": [
    "Le fichier `.travis.yml` devient"
   ]
  },
  {
   "cell_type": "code",
   "execution_count": 2,
   "metadata": {},
   "outputs": [
    {
     "name": "stdout",
     "output_type": "stream",
     "text": [
      "Writing .travis.yml\n"
     ]
    }
   ],
   "source": [
    "%%file .travis.yml\n",
    "\n",
    "language: python\n",
    "\n",
    "install:\n",
    "  - sudo apt-get update\n",
    "  - wget https://repo.continuum.io/miniconda/Miniconda3-latest-Linux-x86_64.sh -O miniconda.sh\n",
    "  - bash miniconda.sh -b -p $HOME/miniconda\n",
    "  - export PATH=\"$HOME/miniconda/bin:$PATH\"\n",
    "  - hash -r\n",
    "  - conda config --set always_yes yes --set changeps1 no\n",
    "  - conda update -q conda\n",
    "  # Useful for debugging any issues with conda\n",
    "  - conda info -a\n",
    "\n",
    "  - conda create -q -n splinart-env python=$TRAVIS_PYTHON_VERSION\n",
    "  - source activate splinart-env\n",
    "  - travis_wait pip install -r requirements.txt\n",
    "  - python setup.py install\n",
    "\n",
    "script:\n",
    "  # Your test script goes here\n",
    "  - pytest tests"
   ]
  },
  {
   "cell_type": "markdown",
   "metadata": {},
   "source": [
    "`travis_wait` indique à travis d'attendre si la procédure est un peu longue. \n",
    "\n",
    "Mettez à jour votre dépôt en ajoutant `requirements.txt` et `.travis.yml`. Vérifiez que la construction du projet se passe bien."
   ]
  },
  {
   "cell_type": "markdown",
   "metadata": {},
   "source": [
    "Nous allons à présent ajouter `pylint` et le test de couverture du projet. Pour cela, nous allons ajouter dans `requirements.txt` les packages suivants"
   ]
  },
  {
   "cell_type": "code",
   "execution_count": null,
   "metadata": {
    "collapsed": true
   },
   "outputs": [],
   "source": [
    "pylint\n",
    "pytest-pylint\n",
    "pytest-cov\n",
    "codecov"
   ]
  },
  {
   "cell_type": "markdown",
   "metadata": {},
   "source": [
    "Puis modifier le fichier `.travis.yml` en conséquence en modifiant juste au niveau de la section `script`"
   ]
  },
  {
   "cell_type": "code",
   "execution_count": null,
   "metadata": {
    "collapsed": true
   },
   "outputs": [],
   "source": [
    "script:\n",
    "  - pytest --pylint --pylint-rcfile=.pyrcfile --pylint-error-types=EF splinart\n",
    "  - pytest --cov=splinart tests\n",
    "\n",
    "after_success:\n",
    "  - codecov  -e $TRAVIS_PYTHON_VERSION"
   ]
  },
  {
   "cell_type": "markdown",
   "metadata": {},
   "source": [
    "Nous indiquons ici à `pytest` que les types d'erreurs `E` et `F` de pylint sont considérés comme des erreurs.\n",
    "\n",
    "Nous avons à présent un script qui fonctionne bien pour une certaine version de Python. Nous aimerions maintenant tester notre package pour différentes version de Python sur linux et mac os. Travis permet de créer des `matrix` indiquant un certain nombre de builds différents sans écrire tous les scripts correspondant à la main.\n",
    "\n",
    "Nous allons donc lui demander de tester notre projet pour différentes versions de Python sur linux et mac os."
   ]
  },
  {
   "cell_type": "code",
   "execution_count": 3,
   "metadata": {},
   "outputs": [
    {
     "name": "stdout",
     "output_type": "stream",
     "text": [
      "Overwriting .travis.yml\n"
     ]
    }
   ],
   "source": [
    "%%file .travis.yml\n",
    "\n",
    "language: python\n",
    "env:\n",
    "  - PYVER=\"2.7\"\n",
    "  - PYVER=\"3.4\"\n",
    "  - PYVER=\"3.5\"\n",
    "  - PYVER=\"3.6\"\n",
    "os:\n",
    "  - linux\n",
    "  - osx\n",
    "\n",
    "before_install:\n",
    "  - |\n",
    "    if [[ \"$TRAVIS_OS_NAME\" == \"osx\" ]]; then \n",
    "      wget https://repo.continuum.io/miniconda/Miniconda3-latest-MacOSX-x86_64.sh -O miniconda.sh;\n",
    "      mkdir .matplotlib;\n",
    "      echo \"backend : TkAgg\" >> .matplotlib/matplotlibrc\n",
    "    fi\n",
    "  - |\n",
    "    if [[ \"$TRAVIS_OS_NAME\" == \"linux\" ]]; then \n",
    "      sudo apt-get update;\n",
    "      wget https://repo.continuum.io/miniconda/Miniconda3-latest-Linux-x86_64.sh -O miniconda.sh;\n",
    "    fi\n",
    "install:\n",
    "  - bash miniconda.sh -b -p $HOME/miniconda\n",
    "  - export PATH=\"$HOME/miniconda/bin:$PATH\"\n",
    "  - hash -r\n",
    "  - conda config --set always_yes yes --set changeps1 no\n",
    "  - conda update -q conda\n",
    "  # Useful for debugging any issues with conda\n",
    "  - conda info -a\n",
    "  - conda create -q -n splinart-env python=$PYVER\n",
    "  - source activate splinart-env\n",
    "  - travis_wait pip install -r requirements.txt\n",
    "  - if [[ \"$TRAVIS_OS_NAME\" == \"osx\" ]]; then conda install python.app; fi;\n",
    "  - python setup.py install\n",
    "\n",
    "script:\n",
    "  - pytest --pylint --pylint-rcfile=.pyrcfile --pylint-error-types=EF splinart\n",
    "  - pytest --cov=splinart tests\n",
    "\n",
    "after_success:\n",
    "  - codecov -e $PYVER"
   ]
  },
  {
   "cell_type": "markdown",
   "metadata": {},
   "source": [
    "La variable d'environnement `TRAVIS_OS_NAME` permet de savoir si nous sommes sur linux ou sur mac osx. Nous installons donc différemment miniconda en fonction du système d'exploitation. Il y a un problème de backend avec mac osx, c'est pourquoi nous ajoutons un fichier `matplotlibrc`.\n",
    "\n",
    "Nous avons donc pu tester notre projet sur\n",
    "\n",
    "| linux |  macosx |\n",
    "|:-----:|:-------:|\n",
    "| python 2.7 | python 2.7|\n",
    "| python 3.4 | python 3.4|\n",
    "| python 3.5 | python 3.5|\n",
    "| python 3.6 | python 3.6|"
   ]
  },
  {
   "cell_type": "markdown",
   "metadata": {},
   "source": [
    "## ReadTheDocs\n",
    "\n",
    "Nous allons à présent nous intéresser à générer la documentation automatiquement sur ReadTheDocs. Pour cela, nous allons ajouter un fichier `environment.yml` dans le répertoire `doc` indiquant tout ce dont nous avons besoin pour sphinx et ses dépendances. Et un fichier `.readthedocs.yml` à la racine du projet indiquant comment installer notre projet.\n",
    "\n",
    "Voici à quoi ressemblent ces deux fichiers"
   ]
  },
  {
   "cell_type": "code",
   "execution_count": 4,
   "metadata": {},
   "outputs": [
    {
     "name": "stdout",
     "output_type": "stream",
     "text": [
      "Writing environment.yml\n"
     ]
    }
   ],
   "source": [
    "%%file environment.yml\n",
    "name: splinart\n",
    "dependencies:\n",
    "  - notebook\n",
    "  - sphinx\n",
    "  - nbsphinx"
   ]
  },
  {
   "cell_type": "code",
   "execution_count": 5,
   "metadata": {},
   "outputs": [
    {
     "name": "stdout",
     "output_type": "stream",
     "text": [
      "Writing .readthedocs.yml\n"
     ]
    }
   ],
   "source": [
    "%%file .readthedocs.yml\n",
    "conda:\n",
    "   file: doc/environment.yml\n",
    "requirements_file: requirements.txt\n",
    "python:\n",
    "   setup_py_install: true"
   ]
  },
  {
   "cell_type": "markdown",
   "metadata": {},
   "source": [
    "Vous devez à présent vous créer un compte sur https://readthedocs.org/ et connecter votre projet github à celui-ci. De cette manière, à chaque fois que vous ferez une mise à jour du dépôt, la documentation sera regénérée."
   ]
  },
  {
   "cell_type": "markdown",
   "metadata": {},
   "source": [
    "## Déploiement sur PyPi et conda\n",
    "\n",
    "Nous voudrions maintenant que lorsque l'on met un tag sur github, la version soit automatiquement mise sur `PyPi` et sur `anaconda`. Pour ce faire, il faut autoriser travis à accéder à votre compte `Pypi` et à votre compte `anaconda` et de manière sécurisée (pas de mots de passe en clair !!).\n",
    "\n",
    "Il faut tout d'abord créer un token sur votre compte `anaconda` en allant dans la partie `access`. Cette accès devra avoir les droits suivants\n",
    "\n",
    "- `api:read` (Allow read access to the API site)\n",
    "- `api:write` (Allow write access to the API site)\n",
    "\n",
    "Il faut ensuite installer `travis` en local et générer les clés cryptées (pour plus d'informations https://docs.travis-ci.com/user/encryption-keys/).\n",
    "\n",
    "- Installer `travis` à l'aide de la commande\n",
    "\n",
    "    gem install travis\n",
    "\n",
    "- Aller dans le projet où se trouve le fichier `.travis.yml`\n",
    "\n",
    "- Générer la clé cryptée pour votre mot de passe `PyPi`\n",
    "\n",
    "    travis encrypt PYPI_PASSWD=votre_mot_de_passe_pypi --add\n",
    "    \n",
    "- Générer la clé cryptée pour le token `anaconda`\n",
    "\n",
    "    travis encrypt ANACONDA_TOKEN=votre_token_anconda --add\n",
    "\n",
    "**Attention**: les noms choisis (`PYPI_PASSWD` et `ANACONDA_TOKEN`) ont leur importance.\n",
    "\n",
    "Vous devriez voir au début de votre fichier `.travis.yml` des lignes qui ressemblent à ça\n",
    "\n",
    "```\n",
    " - secure: qZdQddtVkVpF/60at7mwQiIr7xVK5inETXwGZdCGg0wKeM9Qp0Ae7z6UjGOE+WLNt+QNCcR1tR4BVKlLZmvviMZFPyifdVpKs8GBsx77abaVWfAGOUtaP8HyLFA5/GEW+CJkrZnPWLiumMRE+XIfj6cH4iMBWkKGvHJ+p7YcOQJOUmqXv1S2fOP72bnRmQhwPXk807wNLumDf/MgnXTHx2twtQ/a6EV+z21fKbc8AzP7yoztoxyVw3AdmwOekFkQ+sT9t3AphptwOpuk9Kl18oUbhiDMGhIFdOFgwJS+yfc1cBycro8l50IQyKFYjKPdKrHY32TW6IvPPi7r4q6lEoCUMgJd42CuQrcLfundSoubMBgkxlc3Cv3cbAIzHrpav6yCWbOuiV/OEcVK+JMg5BXqwweOEvcnQq8SQWoK7A5YSXt7h4P5LNdelDl4ZNEs37L3SKsHdnfyXtlEWhFttd8gNYBJ7K9Fx3bF4tocUr5OFXkAMSW/T5jeH7sxJRh+eoAkbJJaxHkPpVnNDxX/U3W5KfwF9kiFEgOsSRuCcDmrTLBVY8Nt4Vy/z4lO+U4Mk7L/esUb1RCcNzVcBsh1l3PA5Hs/my02Qj9natcmORbv+htneKXXBZwCbohEQLSvqm148BCpGPI+eGozCGcc5MljQdZm1x/b6KiG2gg8C9g=\n",
    "```\n",
    "\n",
    "Vous pouvez maintenant mettre à jour les dépôts `PyPi` et `anaconda`. Il nous reste à dire à `travis` comment le faire et à quel moment (lorsque nous créons un tag dans notre dépôt git).\n",
    "\n",
    "Nous allons tout d'abord dire à `travis` que, si la version qu'il teste est taguée via la variable `$TRAVIS_TAG` alors il construit le package `conda` et la distribution `sdist` pour `PyPi`. Pour ce faire, il vous suffit de rajouter les lignes suivantes dans la partie `script`.\n",
    "\n",
    "```\n",
    "- |\n",
    "  if [[ $TRAVIS_TAG ]]; then\n",
    "    python setup.py sdist;\n",
    "    conda build -q --python ${PYVER} recipes &&\n",
    "    conda install --use-local ${PROJECT_NAME} &&\n",
    "    conda uninstall ${PROJECT_NAME};\n",
    "  fi\n",
    "```\n",
    "\n",
    "Vous pouvez voir, qu'en plus de construire le package `conda`, nous demandons à `travis` de l'installer en local puis de le désinstaller.\n",
    "\n",
    "`travis` a également une partie `deploy` qui indique comment déployer le projet si tout s'est bien passé. Voici ce que ça donne\n",
    "\n",
    "```\n",
    "deploy:\n",
    "- provider: pypi\n",
    "  skip_cleanup: true\n",
    "  user: gouarin\n",
    "  password: \"${PYPI_PASSWD}\"\n",
    "  server: https://test.pypi.org/legacy/\n",
    "  on:\n",
    "    repo: \"${GITHUB_REPO_NAME}\"\n",
    "    tags: true\n",
    "    condition: \"$PYVER == 2.7 && $TRAVIS_OS_NAME == linux\"\n",
    "- provider: script\n",
    "  skip_cleanup: true\n",
    "  script: anaconda -t $ANACONDA_TOKEN upload --force ${HOME}/miniconda/conda-bld/*/${PROJECT_NAME}-*.tar.bz2\n",
    "  on:\n",
    "    repo: \"${GITHUB_REPO_NAME}\"\n",
    "    tags: true\n",
    "```\n",
    "\n",
    "Il faut remarquer que le déploiement se fera que si il y a un tag sur le dépôt `github`\n",
    "\n",
    "```\n",
    "  on:\n",
    "    repo: \"${GITHUB_REPO_NAME}\"\n",
    "    tags: true\n",
    "```\n",
    "\n",
    "Nous avons ajouté deux variables d'environnement au début du fichier de la façon suivante\n",
    "\n",
    "```\n",
    "env:\n",
    "  global:\n",
    "  - PROJECT_NAME=splinart\n",
    "  - GITHUB_REPO_NAME=gouarin/splinart\n",
    "```\n",
    "\n",
    "Il ne vous suffit plus qu'à mettre ce nouveau fichier sur le dépôt, puis de mettre un tag en tapant les commandes suivantes si vous voulez par exemple mettre une version `0.1.0`\n",
    "\n",
    "```\n",
    "git tag 0.1.0\n",
    "git push --tags\n",
    "```\n",
    "\n",
    "`travis` s'occupe du reste !!\n",
    "\n",
    "**Remarque**: Nous ne vérifions pas que le tag donné correspond à la version du projet se trouvant dans le fichier `setup.py`. Il faudra le vérifier."
   ]
  },
  {
   "cell_type": "markdown",
   "metadata": {},
   "source": [
    "## Appveyor\n",
    "\n",
    "Nous avons à présent une version sur `PyPi` qui fonctionne pour n'importe quel système d'exploitation puisque c'est un package écrit en pur Python et une version pour linux et mac osx sur `conda`. Ca serait bien d'avoir également une version que l'on pourrait installer sous windows !! Et c'est là que `appveyor` entre en jeu. C'est le système d'intégration continue que propose `github` pour travailler sur des machines windows.\n",
    "\n",
    "Nous allons passer les détails car la procédure est la même que pour `travis`. Il vous faut donc là encore connecter votre projet `github` à `appveyor` en allant ici https://www.appveyor.com/.\n",
    "\n",
    "Là encore, il faut crypter son token anaconda en se rendant sur cette page\n",
    "\n",
    "https://ci.appveyor.com/tools/encrypt\n",
    "\n",
    "**Attention** il ne faut mettre que le token et non `ANACONDA_TOKEN=xxxx`.\n",
    "\n",
    "Il vous reste à créer un fichier `.appveyor` contenant les informations suivantes"
   ]
  },
  {
   "cell_type": "code",
   "execution_count": null,
   "metadata": {
    "collapsed": true
   },
   "outputs": [],
   "source": [
    "%%file .appveyor\n",
    "\n",
    "# Configure appveyor for builds.\n",
    "\n",
    "environment:\n",
    "  condatoken:\n",
    "    secure: IgQ0ihtOWOGDj+VRskpoImtpJQaF9LAAwD0rA9/xQXa7fIr3N8+hQM8aAMi/zXC/\n",
    "\n",
    "  # Need this to set up compilation on Windows.\n",
    "  CMD_IN_ENV: cmd /E:ON /V:ON /C Obvious-CI\\scripts\\obvci_appveyor_python_build_env.cmd\n",
    "  \n",
    "  PROJECT_NAME: splinart\n",
    "  \n",
    "  matrix:\n",
    "    # Unfortunately, compiler/SDK configuration for 64 bit builds depends on\n",
    "    # python version. Right now conda build does not configure the SDK, and\n",
    "    # the appveyor setup only sets up the SDK once, so separate by python\n",
    "    # versions.\n",
    "    - TARGET_ARCH: \"x64\"\n",
    "      PYTHON_BUILD_RESTRICTIONS: \"2.7*\"\n",
    "      CONDA_PY: \"27\"\n",
    "      CONDA_INSTALL_LOCN: \"C:\\\\Miniconda-x64\"\n",
    "      CONDA_BUILDS:  C:\\\\Miniconda-x64\\conda-bld\\win-64\n",
    "    - TARGET_ARCH: \"x64\"\n",
    "      PYTHON_BUILD_RESTRICTIONS: \"3.5*\"\n",
    "      CONDA_PY: \"35\"\n",
    "      CONDA_INSTALL_LOCN: \"C:\\\\Miniconda35-x64\"\n",
    "      CONDA_BUILDS:  C:\\\\Miniconda35-x64\\conda-bld\\win-64\n",
    "    - TARGET_ARCH: \"x64\"\n",
    "      PYTHON_BUILD_RESTRICTIONS: \"3.6*\"\n",
    "      CONDA_PY: \"36\"\n",
    "      CONDA_INSTALL_LOCN: \"C:\\\\Miniconda36-x64\"\n",
    "      CONDA_BUILDS:  C:\\\\Miniconda36-x64\\conda-bld\\win-64\n",
    "\n",
    "# We always use a 64-bit machine, but can build x86 distributions\n",
    "# with the TARGET_ARCH variable.\n",
    "platform:\n",
    "    - x64\n",
    "\n",
    "install:\n",
    "    # Clone simply to get the script for setting up Windows build environment.\n",
    "    - cmd: git clone https://github.com/pelson/Obvious-CI.git\n",
    "\n",
    "    # No need to install miniconda because appveyor comes with it.\n",
    "    - cmd: SET PATH=%CONDA_INSTALL_LOCN%;%CONDA_INSTALL_LOCN%\\Scripts;%PATH%\n",
    "\n",
    "    - cmd: conda config --set always_yes true\n",
    "    - cmd: conda update --quiet conda\n",
    "\n",
    "    - cmd: conda install --quiet jinja2 conda-build=2 anaconda-client\n",
    "    # These installs are needed on windows but not other platforms.\n",
    "    - cmd: conda install patch psutil\n",
    "    - cmd: pip install -r requirements.txt\n",
    "\n",
    "# Skip .NET project specific build phase.\n",
    "build: off\n",
    "\n",
    "test_script:\n",
    "    - \"%CMD_IN_ENV% conda build recipes\"\n",
    "\n",
    "    # Install the package\n",
    "    - conda install --use-local %PROJECT_NAME%\n",
    "\n",
    "    # Run the tests outside the source tree.\n",
    "    - pytest --cov %PROJECT_NAME% tests/\n",
    "\n",
    "on_success:\n",
    "    - echo %APPVEYOR_REPO_TAG%\n",
    "    - cmd: SET PATH=%CONDA_INSTALL_LOCN%;%CONDA_INSTALL_LOCN%\\Scripts;%PATH%\n",
    "    # Write the output file location to a file...cannot simply use conda build --output\n",
    "    # because astropy_helpers prints out a message when it is freezing the version number during setup.\n",
    "    - python -c \"from conda_build.api import get_output_file_path; p=get_output_file_path('recipes'); f=open('to_upload.txt', 'w');f.write(p)\"\n",
    "    # ...so that we can set a variable to the name of that output file.\n",
    "    - set /P BUILT_PACKAGE=<to_upload.txt\n",
    "    - echo %BUILT_PACKAGE%\n",
    "    # If this build is because of a tag make the conda package and upload it.\n",
    "    #- cmd: if \"%APPVEYOR_REPO_TAG%\"==\"true\" anaconda -t %BINSTAR_TOKEN% upload -u astropy %BUILT_PACKAGE%    \n",
    "    - cmd: anaconda -t %condatoken% upload --force %BUILT_PACKAGE%\n"
   ]
  },
  {
   "cell_type": "markdown",
   "metadata": {
    "collapsed": true
   },
   "source": [
    "## Les badges\n",
    "\n",
    "Il est possible de mettre tout un tas de badges dans votre fichier `readme`. Ceux-ci permettent de voir tout de suite un ensemble d'informations qui peuvent donner envie à un utilisateur potentiel de tester votre projet. Nous allons ajouter les badges suivants\n",
    "\n",
    "- badge pour le package conda\n",
    "- badge pour la documentation\n",
    "- badge pour la construction du projet sur travis\n",
    "- badge pour la construction du projet sur appveyor\n",
    "- badge pour la couverture\n",
    "\n",
    "La plupart des outils que vous avez utilisés donne sur la page de votre projet le lien à mettre pour insérer le badge. Par exemple, pour `travis`, il suffit d'ajouter à la fin du `readme`\n",
    "\n",
    "```\n",
    ".. |travis| image:: https://travis-ci.org/gouarin/splinart.svg?branch=master\n",
    "   :target: https://travis-ci.org/gouarin/splinart\n",
    "```\n",
    "\n",
    "et au début\n",
    "\n",
    "```\n",
    "|travis|\n",
    "```\n",
    "\n",
    "ce qui permet d'ajouter le badge."
   ]
  },
  {
   "cell_type": "markdown",
   "metadata": {},
   "source": [
    "## La petite touche final: [binder](https://mybinder.org/)\n",
    "\n",
    "`MyBinder` permet de créer un environnement prêt à l'emploi avec vos notebooks. A partir de là, vous pouvez dire à `MyBinder` de créer cet environnement avec votre projet (puisqu'il est maintenant sur `PyPi` et `conda`) et d'ouvrir le répertoire où il y a les notebooks de tutoriels. \n",
    "\n",
    "Un utilisateur peut alors tester votre projet rapidement sans rien installer sur son système !!!\n",
    "\n",
    "Nous allons juste créer un fichier `environment.yml` indiquant à `binder` ce que l'on doit installer."
   ]
  },
  {
   "cell_type": "code",
   "execution_count": 1,
   "metadata": {},
   "outputs": [
    {
     "name": "stdout",
     "output_type": "stream",
     "text": [
      "Writing environment.yml\n"
     ]
    }
   ],
   "source": [
    "%%file environment.yml\n",
    "name: splinart\n",
    "channels:\n",
    "  - gouarin\n",
    "dependencies:\n",
    "  - python=3.6\n",
    "  - splinart"
   ]
  },
  {
   "cell_type": "markdown",
   "metadata": {},
   "source": [
    "Il suffit maintenant de copier-coller l'adresse de votre projet `github` dans l'interface de `binder` et de faire `launch`."
   ]
  },
  {
   "cell_type": "markdown",
   "metadata": {},
   "source": [
    "Vous n'avez plus qu'à copier le badge dans votre `readme` et n'importe qui peut tester votre projet rapidement et facilement !"
   ]
  },
  {
   "cell_type": "code",
   "execution_count": null,
   "metadata": {
    "collapsed": true
   },
   "outputs": [],
   "source": []
  }
 ],
 "metadata": {
  "kernelspec": {
   "display_name": "Python 3",
   "language": "python",
   "name": "python3"
  },
  "language_info": {
   "codemirror_mode": {
    "name": "ipython",
    "version": 3
   },
   "file_extension": ".py",
   "mimetype": "text/x-python",
   "name": "python",
   "nbconvert_exporter": "python",
   "pygments_lexer": "ipython3",
   "version": "3.6.6"
  }
 },
 "nbformat": 4,
 "nbformat_minor": 2
}
