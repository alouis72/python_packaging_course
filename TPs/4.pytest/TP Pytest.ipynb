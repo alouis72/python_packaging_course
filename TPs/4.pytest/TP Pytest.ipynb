{
 "cells": [
  {
   "cell_type": "markdown",
   "metadata": {},
   "source": [
    "# TP pytest\n",
    "\n",
    "- Créez un répertoire `tests`.\n",
    "- Ecrivez deux tests dans `test_shape.py` qui testent si la fonction `circle` fait bien ce qu'il faut. On pourra prendre par exemple si le centre est $[0, 0]$, le rayon $1$\n",
    "\n",
    "    - et le nombre de points $2$, alors le `path` est `[[1, 0], [1, 0]]`,\n",
    "    - et le nombre de points $5$, alors le `path` est `[[1, 0], [0, 1], [-1, 0], [0, -1], [1, 0]]`.\n",
    "\n",
    "- Réécrivez ces deux tests en un en utilisant une `fixture` ou un `parametrize`"
   ]
  }
 ],
 "metadata": {
  "kernelspec": {
   "display_name": "Python 3",
   "language": "python",
   "name": "python3"
  },
  "language_info": {
   "codemirror_mode": {
    "name": "ipython",
    "version": 3
   },
   "file_extension": ".py",
   "mimetype": "text/x-python",
   "name": "python",
   "nbconvert_exporter": "python",
   "pygments_lexer": "ipython3",
   "version": "3.6.2"
  }
 },
 "nbformat": 4,
 "nbformat_minor": 2
}
